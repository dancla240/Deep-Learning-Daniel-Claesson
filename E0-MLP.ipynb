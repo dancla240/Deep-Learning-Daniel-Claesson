{
 "cells": [
  {
   "cell_type": "markdown",
   "metadata": {},
   "source": [
    "\n",
    "<a href=\"https://colab.research.google.com/github/pr0fez/AI23-Deep_learning/blob/main/Exercises/E0-MLP.ipynb\" target=\"_parent\"><img align=\"left\" src=\"https://colab.research.google.com/assets/colab-badge.svg\" alt=\"Open In Colab\"/></a> &nbsp; to see hints and answers."
   ]
  },
  {
   "cell_type": "markdown",
   "metadata": {},
   "source": [
    "---\n",
    "# Multilayered perceptron (MLP) exercises \n",
    "\n",
    "---\n",
    "These are introductory exercises in Deep learning with focus in **MLP** for regression and classification.\n",
    "\n",
    "<p class = \"alert alert-info\" role=\"alert\"><b>Note</b> that sometimes you don't get exactly the same answer as I get, but it doesn't neccessarily mean it is wrong. Could be some parameters, randomization, that we have different. Also very important is that in the future there won't be any answer sheets, use your skills in data analysis, mathematics and statistics to back up your work.</p>\n",
    "\n",
    "<p class = \"alert alert-info\" role=\"alert\"><b>Note</b> that in cases when you start to repeat code, try not to. Create functions to reuse code instead. </p>\n",
    "\n",
    "<p class = \"alert alert-info\" role=\"alert\"><b>Remember</b> to use <b>descriptive variable, function, index </b> and <b> column names</b> in order to get readable code </p>\n",
    "\n",
    "The number of stars (\\*), (\\*\\*), (\\*\\*\\*) denotes the difficulty level of the task\n",
    "\n",
    "---"
   ]
  },
  {
   "cell_type": "markdown",
   "metadata": {},
   "source": [
    "## 0. MLP for regression (*)\n",
    "\n",
    "We will continue with the dataset that we used in the lecture with predicting miles per gallons using an MLP for regression.\n",
    "\n",
    "&nbsp; a) Load the mpg dataset using seaborn. (*)\n",
    "\n",
    "&nbsp; b) Use your data analysis skills to perform EDA. (*)\n",
    "\n",
    "&nbsp; c) Find out the missing values in the dataset and use a machine learning model to fill them in (imputation). (**)\n",
    "\n",
    "&nbsp; d) Can you figure out a way to see if the values filled in are reasonable? (**)\n",
    "\n",
    "&nbsp; e) Do a train|val|test split on the data and scale it properly. Test out which scaling method to use. (*)\n",
    "\n",
    "&nbsp; f) Create an MLP with hidden layers, 1-3, and test out different amount of nodes. Choose the number of epochs you want to use throughout all experiments. Plot training losses and validation losses for different configurations. (*)\n",
    "\n",
    "&nbsp; g) Now use early stopping to tune the number of epochs. (*)\n",
    "\n",
    "&nbsp; h) Train on all training data and validation data. (*)\n",
    "\n",
    "&nbsp; i) Predict on test data and evaluate. (*)\n",
    "\n",
    "&nbsp; j) Can you create an MLP model that beats random forest for this dataset? (**)\n",
    "\n",
    "<details>\n",
    "\n",
    "<summary>Hint</summary>\n",
    "\n",
    "d) Perhaps some statistical analysis and visual comparison of similar samples? Also combine with domain skills. \n",
    "\n",
    "f) Decide how to do systematic testing and document them.\n",
    "\n",
    "j) Don't forget about classical machine learning models that we learned in the last course, in many cases they can outperform neural networks. You need to pick the right model for the right problem.\n",
    "\n",
    "</details>\n",
    "\n",
    "<details>\n",
    "\n",
    "<summary>Answer</summary>\n",
    "\n",
    "No answers here, discuss with your fellow data scientists to move forward if you're stuck.\n",
    "\n",
    "\n",
    "</details>\n",
    "\n",
    "---"
   ]
  },
  {
   "cell_type": "code",
   "execution_count": 504,
   "metadata": {},
   "outputs": [],
   "source": [
    "import seaborn as sns\n",
    "from seaborn import load_dataset\n",
    "import pandas as pd\n",
    "import matplotlib.pyplot as plt\n",
    "from sklearn.model_selection import train_test_split\n",
    "from sklearn.linear_model import LinearRegression\n",
    "from sklearn.metrics import mean_squared_error, r2_score\n",
    "from sklearn.preprocessing import StandardScaler\n",
    "from sklearn.preprocessing import MinMaxScaler\n"
   ]
  },
  {
   "cell_type": "code",
   "execution_count": 505,
   "metadata": {},
   "outputs": [
    {
     "data": {
      "text/html": [
       "<div>\n",
       "<style scoped>\n",
       "    .dataframe tbody tr th:only-of-type {\n",
       "        vertical-align: middle;\n",
       "    }\n",
       "\n",
       "    .dataframe tbody tr th {\n",
       "        vertical-align: top;\n",
       "    }\n",
       "\n",
       "    .dataframe thead th {\n",
       "        text-align: right;\n",
       "    }\n",
       "</style>\n",
       "<table border=\"1\" class=\"dataframe\">\n",
       "  <thead>\n",
       "    <tr style=\"text-align: right;\">\n",
       "      <th></th>\n",
       "      <th>mpg</th>\n",
       "      <th>cylinders</th>\n",
       "      <th>displacement</th>\n",
       "      <th>horsepower</th>\n",
       "      <th>weight</th>\n",
       "      <th>acceleration</th>\n",
       "      <th>model_year</th>\n",
       "      <th>origin</th>\n",
       "      <th>name</th>\n",
       "    </tr>\n",
       "  </thead>\n",
       "  <tbody>\n",
       "    <tr>\n",
       "      <th>0</th>\n",
       "      <td>18.0</td>\n",
       "      <td>8</td>\n",
       "      <td>307.0</td>\n",
       "      <td>130.0</td>\n",
       "      <td>3504</td>\n",
       "      <td>12.0</td>\n",
       "      <td>70</td>\n",
       "      <td>usa</td>\n",
       "      <td>chevrolet chevelle malibu</td>\n",
       "    </tr>\n",
       "    <tr>\n",
       "      <th>1</th>\n",
       "      <td>15.0</td>\n",
       "      <td>8</td>\n",
       "      <td>350.0</td>\n",
       "      <td>165.0</td>\n",
       "      <td>3693</td>\n",
       "      <td>11.5</td>\n",
       "      <td>70</td>\n",
       "      <td>usa</td>\n",
       "      <td>buick skylark 320</td>\n",
       "    </tr>\n",
       "    <tr>\n",
       "      <th>2</th>\n",
       "      <td>18.0</td>\n",
       "      <td>8</td>\n",
       "      <td>318.0</td>\n",
       "      <td>150.0</td>\n",
       "      <td>3436</td>\n",
       "      <td>11.0</td>\n",
       "      <td>70</td>\n",
       "      <td>usa</td>\n",
       "      <td>plymouth satellite</td>\n",
       "    </tr>\n",
       "    <tr>\n",
       "      <th>3</th>\n",
       "      <td>16.0</td>\n",
       "      <td>8</td>\n",
       "      <td>304.0</td>\n",
       "      <td>150.0</td>\n",
       "      <td>3433</td>\n",
       "      <td>12.0</td>\n",
       "      <td>70</td>\n",
       "      <td>usa</td>\n",
       "      <td>amc rebel sst</td>\n",
       "    </tr>\n",
       "    <tr>\n",
       "      <th>4</th>\n",
       "      <td>17.0</td>\n",
       "      <td>8</td>\n",
       "      <td>302.0</td>\n",
       "      <td>140.0</td>\n",
       "      <td>3449</td>\n",
       "      <td>10.5</td>\n",
       "      <td>70</td>\n",
       "      <td>usa</td>\n",
       "      <td>ford torino</td>\n",
       "    </tr>\n",
       "  </tbody>\n",
       "</table>\n",
       "</div>"
      ],
      "text/plain": [
       "    mpg  cylinders  displacement  horsepower  weight  acceleration  \\\n",
       "0  18.0          8         307.0       130.0    3504          12.0   \n",
       "1  15.0          8         350.0       165.0    3693          11.5   \n",
       "2  18.0          8         318.0       150.0    3436          11.0   \n",
       "3  16.0          8         304.0       150.0    3433          12.0   \n",
       "4  17.0          8         302.0       140.0    3449          10.5   \n",
       "\n",
       "   model_year origin                       name  \n",
       "0          70    usa  chevrolet chevelle malibu  \n",
       "1          70    usa          buick skylark 320  \n",
       "2          70    usa         plymouth satellite  \n",
       "3          70    usa              amc rebel sst  \n",
       "4          70    usa                ford torino  "
      ]
     },
     "execution_count": 505,
     "metadata": {},
     "output_type": "execute_result"
    }
   ],
   "source": [
    "auto = load_dataset('mpg')\n",
    "auto.head()"
   ]
  },
  {
   "cell_type": "code",
   "execution_count": 506,
   "metadata": {},
   "outputs": [
    {
     "name": "stdout",
     "output_type": "stream",
     "text": [
      "<class 'pandas.core.frame.DataFrame'>\n",
      "RangeIndex: 398 entries, 0 to 397\n",
      "Data columns (total 9 columns):\n",
      " #   Column        Non-Null Count  Dtype  \n",
      "---  ------        --------------  -----  \n",
      " 0   mpg           398 non-null    float64\n",
      " 1   cylinders     398 non-null    int64  \n",
      " 2   displacement  398 non-null    float64\n",
      " 3   horsepower    392 non-null    float64\n",
      " 4   weight        398 non-null    int64  \n",
      " 5   acceleration  398 non-null    float64\n",
      " 6   model_year    398 non-null    int64  \n",
      " 7   origin        398 non-null    object \n",
      " 8   name          398 non-null    object \n",
      "dtypes: float64(4), int64(3), object(2)\n",
      "memory usage: 28.1+ KB\n"
     ]
    }
   ],
   "source": [
    "auto.info()"
   ]
  },
  {
   "cell_type": "code",
   "execution_count": 507,
   "metadata": {},
   "outputs": [
    {
     "data": {
      "text/plain": [
       "count    398.000000\n",
       "mean      23.514573\n",
       "std        7.815984\n",
       "min        9.000000\n",
       "25%       17.500000\n",
       "50%       23.000000\n",
       "75%       29.000000\n",
       "max       46.600000\n",
       "Name: mpg, dtype: float64"
      ]
     },
     "execution_count": 507,
     "metadata": {},
     "output_type": "execute_result"
    }
   ],
   "source": [
    "auto['mpg'].describe()"
   ]
  },
  {
   "cell_type": "code",
   "execution_count": 508,
   "metadata": {},
   "outputs": [
    {
     "data": {
      "image/png": "[encoded data removed]",
      "text/plain": [
       "<Figure size 640x480 with 1 Axes>"
      ]
     },
     "metadata": {},
     "output_type": "display_data"
    }
   ],
   "source": [
    "# Create a histogram of the 'mpg' column\n",
    "plt.hist(auto['mpg'], bins=20, edgecolor='black')\n",
    "plt.title('Histogram of MPG')\n",
    "plt.xlabel('MPG')\n",
    "plt.ylabel('Frequency')\n",
    "plt.show()"
   ]
  },
  {
   "cell_type": "code",
   "execution_count": 509,
   "metadata": {},
   "outputs": [],
   "source": [
    "# remove missing values\n",
    "auto_no_nan = auto.dropna()"
   ]
  },
  {
   "cell_type": "code",
   "execution_count": 510,
   "metadata": {},
   "outputs": [
    {
     "data": {
      "text/plain": [
       "<Axes: >"
      ]
     },
     "execution_count": 510,
     "metadata": {},
     "output_type": "execute_result"
    },
    {
     "data": {
      "image/png": "[encoded data removed]",
      "text/plain": [
       "<Figure size 600x500 with 2 Axes>"
      ]
     },
     "metadata": {},
     "output_type": "display_data"
    }
   ],
   "source": [
    "corr = auto_no_nan[['mpg','cylinders','displacement','horsepower','weight','acceleration']].corr()\n",
    "fig, ax = plt.subplots(figsize=(6,5))\n",
    "sns.heatmap(corr, annot=True)"
   ]
  },
  {
   "cell_type": "markdown",
   "metadata": {},
   "source": [
    "Horsepower är mest korrelerat till displacement (och antal cylindrar). Gör en multipel linjär regression, för att fylla i de saknade värdena."
   ]
  },
  {
   "cell_type": "code",
   "execution_count": 511,
   "metadata": {},
   "outputs": [],
   "source": [
    "# Define features (independent variables) and target (dependent variable)\n",
    "X = auto_no_nan[[\"displacement\",\"cylinders\"]]  # Features\n",
    "y = auto_no_nan[\"horsepower\"]  # Target\n",
    "\n",
    "# Split data into training and testing sets\n",
    "X_train, X_test, y_train, y_test = train_test_split(X, y, test_size=0.2, random_state=42)\n"
   ]
  },
  {
   "cell_type": "code",
   "execution_count": 512,
   "metadata": {},
   "outputs": [
    {
     "name": "stdout",
     "output_type": "stream",
     "text": [
      "Coefficients: [ 0.35527886 -1.65348604]\n",
      "Intercept: 44.19610787329522\n"
     ]
    }
   ],
   "source": [
    "# Initialize the model\n",
    "model = LinearRegression()\n",
    "\n",
    "# Train the model\n",
    "model.fit(X_train, y_train)\n",
    "\n",
    "# View the model coefficients\n",
    "print(\"Coefficients:\", model.coef_)\n",
    "print(\"Intercept:\", model.intercept_)"
   ]
  },
  {
   "cell_type": "code",
   "execution_count": 513,
   "metadata": {},
   "outputs": [
    {
     "data": {
      "text/plain": [
       "displacement    96.0\n",
       "cylinders        4.0\n",
       "Name: 79, dtype: float64"
      ]
     },
     "execution_count": 513,
     "metadata": {},
     "output_type": "execute_result"
    }
   ],
   "source": [
    "X_test.iloc[0]"
   ]
  },
  {
   "cell_type": "code",
   "execution_count": 514,
   "metadata": {},
   "outputs": [
    {
     "data": {
      "text/plain": [
       "array([ 71.68893409,  80.57090554,  69.9125398 ,  69.9125398 ,\n",
       "        87.32120385,  72.04421294, 173.07976282,  72.04421294,\n",
       "       114.21293471,  61.74112606, 169.52697423,  89.69869349,\n",
       "       155.3158199 ,  72.04421294,  92.1856455 ,  77.37339582,\n",
       "       104.62040554,  75.95228039,  80.57090554,  80.9261844 ,\n",
       "       104.62040554,  72.04421294,  69.9125398 , 140.038829  ,\n",
       "        65.6491935 ,  72.3994918 ,  80.21562668, 114.21293471,\n",
       "        72.04421294,  80.57090554, 155.3158199 , 116.69988672,\n",
       "       125.82767467,  80.21562668, 173.07976282,  69.9125398 ,\n",
       "       138.26243471,  72.22185237, 138.26243471, 158.86860849,\n",
       "       140.038829  ,  69.55726094,  74.88644381,  72.04421294,\n",
       "       155.67109876, 187.29091715, 123.09490617,  69.9125398 ,\n",
       "        87.32120385,  69.55726094, 155.67109876,  77.72867468,\n",
       "        87.32120385,  80.21562668, 116.69988672, 125.93713703,\n",
       "       124.05128038, 116.69988672,  74.53116495,  77.72867468,\n",
       "       192.62010002, 116.69988672,  95.73843408,  80.21562668,\n",
       "        85.1895307 ,  78.79451125,  87.32120385,  69.55726094,\n",
       "       123.34072266, 183.3828497 ,  87.32120385, 155.3158199 ,\n",
       "        86.14590491,  64.10516982, 114.21293471,  72.3994918 ,\n",
       "       155.3158199 , 138.97299242,  72.04421294])"
      ]
     },
     "execution_count": 514,
     "metadata": {},
     "output_type": "execute_result"
    }
   ],
   "source": [
    "y_pred = model.predict(X_test)\n",
    "y_pred"
   ]
  },
  {
   "cell_type": "code",
   "execution_count": 515,
   "metadata": {},
   "outputs": [
    {
     "name": "stdout",
     "output_type": "stream",
     "text": [
      "Mean Squared Error: 253.03821237406552\n",
      "R-squared: 0.8361338874123327\n"
     ]
    }
   ],
   "source": [
    "# Evaluate the model\n",
    "mse = mean_squared_error(y_test, y_pred)\n",
    "r2 = r2_score(y_test, y_pred)\n",
    "\n",
    "print(\"Mean Squared Error:\", mse)\n",
    "print(\"R-squared:\", r2)\n"
   ]
  },
  {
   "cell_type": "code",
   "execution_count": 516,
   "metadata": {},
   "outputs": [
    {
     "name": "stderr",
     "output_type": "stream",
     "text": [
      "c:\\Users\\danie\\Documents\\GitHub\\Deep-Learning-Daniel-Claesson\\.venv\\Lib\\site-packages\\sklearn\\base.py:493: UserWarning:\n",
      "\n",
      "X does not have valid feature names, but LinearRegression was fitted with feature names\n",
      "\n"
     ]
    },
    {
     "data": {
      "text/plain": [
       "array([140.038829])"
      ]
     },
     "execution_count": 516,
     "metadata": {},
     "output_type": "execute_result"
    }
   ],
   "source": [
    "predict = model.predict([[307.0,8]])\n",
    "predict"
   ]
  },
  {
   "cell_type": "code",
   "execution_count": 517,
   "metadata": {},
   "outputs": [
    {
     "data": {
      "text/html": [
       "<div>\n",
       "<style scoped>\n",
       "    .dataframe tbody tr th:only-of-type {\n",
       "        vertical-align: middle;\n",
       "    }\n",
       "\n",
       "    .dataframe tbody tr th {\n",
       "        vertical-align: top;\n",
       "    }\n",
       "\n",
       "    .dataframe thead th {\n",
       "        text-align: right;\n",
       "    }\n",
       "</style>\n",
       "<table border=\"1\" class=\"dataframe\">\n",
       "  <thead>\n",
       "    <tr style=\"text-align: right;\">\n",
       "      <th></th>\n",
       "      <th>mpg</th>\n",
       "      <th>cylinders</th>\n",
       "      <th>displacement</th>\n",
       "      <th>horsepower</th>\n",
       "      <th>weight</th>\n",
       "      <th>acceleration</th>\n",
       "      <th>model_year</th>\n",
       "      <th>origin</th>\n",
       "      <th>name</th>\n",
       "    </tr>\n",
       "  </thead>\n",
       "  <tbody>\n",
       "    <tr>\n",
       "      <th>32</th>\n",
       "      <td>25.0</td>\n",
       "      <td>4</td>\n",
       "      <td>98.0</td>\n",
       "      <td>NaN</td>\n",
       "      <td>2046</td>\n",
       "      <td>19.0</td>\n",
       "      <td>71</td>\n",
       "      <td>usa</td>\n",
       "      <td>ford pinto</td>\n",
       "    </tr>\n",
       "    <tr>\n",
       "      <th>126</th>\n",
       "      <td>21.0</td>\n",
       "      <td>6</td>\n",
       "      <td>200.0</td>\n",
       "      <td>NaN</td>\n",
       "      <td>2875</td>\n",
       "      <td>17.0</td>\n",
       "      <td>74</td>\n",
       "      <td>usa</td>\n",
       "      <td>ford maverick</td>\n",
       "    </tr>\n",
       "    <tr>\n",
       "      <th>330</th>\n",
       "      <td>40.9</td>\n",
       "      <td>4</td>\n",
       "      <td>85.0</td>\n",
       "      <td>NaN</td>\n",
       "      <td>1835</td>\n",
       "      <td>17.3</td>\n",
       "      <td>80</td>\n",
       "      <td>europe</td>\n",
       "      <td>renault lecar deluxe</td>\n",
       "    </tr>\n",
       "    <tr>\n",
       "      <th>336</th>\n",
       "      <td>23.6</td>\n",
       "      <td>4</td>\n",
       "      <td>140.0</td>\n",
       "      <td>NaN</td>\n",
       "      <td>2905</td>\n",
       "      <td>14.3</td>\n",
       "      <td>80</td>\n",
       "      <td>usa</td>\n",
       "      <td>ford mustang cobra</td>\n",
       "    </tr>\n",
       "    <tr>\n",
       "      <th>354</th>\n",
       "      <td>34.5</td>\n",
       "      <td>4</td>\n",
       "      <td>100.0</td>\n",
       "      <td>NaN</td>\n",
       "      <td>2320</td>\n",
       "      <td>15.8</td>\n",
       "      <td>81</td>\n",
       "      <td>europe</td>\n",
       "      <td>renault 18i</td>\n",
       "    </tr>\n",
       "    <tr>\n",
       "      <th>374</th>\n",
       "      <td>23.0</td>\n",
       "      <td>4</td>\n",
       "      <td>151.0</td>\n",
       "      <td>NaN</td>\n",
       "      <td>3035</td>\n",
       "      <td>20.5</td>\n",
       "      <td>82</td>\n",
       "      <td>usa</td>\n",
       "      <td>amc concord dl</td>\n",
       "    </tr>\n",
       "  </tbody>\n",
       "</table>\n",
       "</div>"
      ],
      "text/plain": [
       "      mpg  cylinders  displacement  horsepower  weight  acceleration  \\\n",
       "32   25.0          4          98.0         NaN    2046          19.0   \n",
       "126  21.0          6         200.0         NaN    2875          17.0   \n",
       "330  40.9          4          85.0         NaN    1835          17.3   \n",
       "336  23.6          4         140.0         NaN    2905          14.3   \n",
       "354  34.5          4         100.0         NaN    2320          15.8   \n",
       "374  23.0          4         151.0         NaN    3035          20.5   \n",
       "\n",
       "     model_year  origin                  name  \n",
       "32           71     usa            ford pinto  \n",
       "126          74     usa         ford maverick  \n",
       "330          80  europe  renault lecar deluxe  \n",
       "336          80     usa    ford mustang cobra  \n",
       "354          81  europe           renault 18i  \n",
       "374          82     usa        amc concord dl  "
      ]
     },
     "execution_count": 517,
     "metadata": {},
     "output_type": "execute_result"
    }
   ],
   "source": [
    "auto[auto['horsepower'].isnull()]"
   ]
  },
  {
   "cell_type": "markdown",
   "metadata": {},
   "source": [
    "Använder modellen för att prediktera 'horsepower\" på de bilar där 'horsepower' saknas. Loopar igenom hela dataframen och hittar de rader som har saknade värden."
   ]
  },
  {
   "cell_type": "code",
   "execution_count": 518,
   "metadata": {},
   "outputs": [
    {
     "name": "stderr",
     "output_type": "stream",
     "text": [
      "c:\\Users\\danie\\Documents\\GitHub\\Deep-Learning-Daniel-Claesson\\.venv\\Lib\\site-packages\\sklearn\\base.py:493: UserWarning:\n",
      "\n",
      "X does not have valid feature names, but LinearRegression was fitted with feature names\n",
      "\n",
      "c:\\Users\\danie\\Documents\\GitHub\\Deep-Learning-Daniel-Claesson\\.venv\\Lib\\site-packages\\sklearn\\base.py:493: UserWarning:\n",
      "\n",
      "X does not have valid feature names, but LinearRegression was fitted with feature names\n",
      "\n",
      "c:\\Users\\danie\\Documents\\GitHub\\Deep-Learning-Daniel-Claesson\\.venv\\Lib\\site-packages\\sklearn\\base.py:493: UserWarning:\n",
      "\n",
      "X does not have valid feature names, but LinearRegression was fitted with feature names\n",
      "\n",
      "c:\\Users\\danie\\Documents\\GitHub\\Deep-Learning-Daniel-Claesson\\.venv\\Lib\\site-packages\\sklearn\\base.py:493: UserWarning:\n",
      "\n",
      "X does not have valid feature names, but LinearRegression was fitted with feature names\n",
      "\n",
      "c:\\Users\\danie\\Documents\\GitHub\\Deep-Learning-Daniel-Claesson\\.venv\\Lib\\site-packages\\sklearn\\base.py:493: UserWarning:\n",
      "\n",
      "X does not have valid feature names, but LinearRegression was fitted with feature names\n",
      "\n",
      "c:\\Users\\danie\\Documents\\GitHub\\Deep-Learning-Daniel-Claesson\\.venv\\Lib\\site-packages\\sklearn\\base.py:493: UserWarning:\n",
      "\n",
      "X does not have valid feature names, but LinearRegression was fitted with feature names\n",
      "\n"
     ]
    },
    {
     "data": {
      "text/html": [
       "<div>\n",
       "<style scoped>\n",
       "    .dataframe tbody tr th:only-of-type {\n",
       "        vertical-align: middle;\n",
       "    }\n",
       "\n",
       "    .dataframe tbody tr th {\n",
       "        vertical-align: top;\n",
       "    }\n",
       "\n",
       "    .dataframe thead th {\n",
       "        text-align: right;\n",
       "    }\n",
       "</style>\n",
       "<table border=\"1\" class=\"dataframe\">\n",
       "  <thead>\n",
       "    <tr style=\"text-align: right;\">\n",
       "      <th></th>\n",
       "      <th>mpg</th>\n",
       "      <th>cylinders</th>\n",
       "      <th>displacement</th>\n",
       "      <th>horsepower</th>\n",
       "      <th>weight</th>\n",
       "      <th>acceleration</th>\n",
       "      <th>model_year</th>\n",
       "      <th>origin</th>\n",
       "      <th>name</th>\n",
       "    </tr>\n",
       "  </thead>\n",
       "  <tbody>\n",
       "    <tr>\n",
       "      <th>0</th>\n",
       "      <td>18.0</td>\n",
       "      <td>8</td>\n",
       "      <td>307.0</td>\n",
       "      <td>130.0</td>\n",
       "      <td>3504</td>\n",
       "      <td>12.0</td>\n",
       "      <td>70</td>\n",
       "      <td>usa</td>\n",
       "      <td>chevrolet chevelle malibu</td>\n",
       "    </tr>\n",
       "    <tr>\n",
       "      <th>1</th>\n",
       "      <td>15.0</td>\n",
       "      <td>8</td>\n",
       "      <td>350.0</td>\n",
       "      <td>165.0</td>\n",
       "      <td>3693</td>\n",
       "      <td>11.5</td>\n",
       "      <td>70</td>\n",
       "      <td>usa</td>\n",
       "      <td>buick skylark 320</td>\n",
       "    </tr>\n",
       "    <tr>\n",
       "      <th>2</th>\n",
       "      <td>18.0</td>\n",
       "      <td>8</td>\n",
       "      <td>318.0</td>\n",
       "      <td>150.0</td>\n",
       "      <td>3436</td>\n",
       "      <td>11.0</td>\n",
       "      <td>70</td>\n",
       "      <td>usa</td>\n",
       "      <td>plymouth satellite</td>\n",
       "    </tr>\n",
       "    <tr>\n",
       "      <th>3</th>\n",
       "      <td>16.0</td>\n",
       "      <td>8</td>\n",
       "      <td>304.0</td>\n",
       "      <td>150.0</td>\n",
       "      <td>3433</td>\n",
       "      <td>12.0</td>\n",
       "      <td>70</td>\n",
       "      <td>usa</td>\n",
       "      <td>amc rebel sst</td>\n",
       "    </tr>\n",
       "    <tr>\n",
       "      <th>4</th>\n",
       "      <td>17.0</td>\n",
       "      <td>8</td>\n",
       "      <td>302.0</td>\n",
       "      <td>140.0</td>\n",
       "      <td>3449</td>\n",
       "      <td>10.5</td>\n",
       "      <td>70</td>\n",
       "      <td>usa</td>\n",
       "      <td>ford torino</td>\n",
       "    </tr>\n",
       "  </tbody>\n",
       "</table>\n",
       "</div>"
      ],
      "text/plain": [
       "    mpg  cylinders  displacement  horsepower  weight  acceleration  \\\n",
       "0  18.0          8         307.0       130.0    3504          12.0   \n",
       "1  15.0          8         350.0       165.0    3693          11.5   \n",
       "2  18.0          8         318.0       150.0    3436          11.0   \n",
       "3  16.0          8         304.0       150.0    3433          12.0   \n",
       "4  17.0          8         302.0       140.0    3449          10.5   \n",
       "\n",
       "   model_year origin                       name  \n",
       "0          70    usa  chevrolet chevelle malibu  \n",
       "1          70    usa          buick skylark 320  \n",
       "2          70    usa         plymouth satellite  \n",
       "3          70    usa              amc rebel sst  \n",
       "4          70    usa                ford torino  "
      ]
     },
     "execution_count": 518,
     "metadata": {},
     "output_type": "execute_result"
    }
   ],
   "source": [
    "# Loop through each row in the auto dataframe\n",
    "for index, row in auto.iterrows():\n",
    "    if pd.isna(row['horsepower']):\n",
    "        # Predict the horsepower using the linear model\n",
    "        predicted_hp = model.predict([[row['displacement'], row['cylinders']]])[0]\n",
    "        # Update the dataframe with the predicted value\n",
    "        auto.at[index, 'horsepower'] = predicted_hp\n",
    "\n",
    "# Display the updated dataframe\n",
    "auto.head()"
   ]
  },
  {
   "cell_type": "markdown",
   "metadata": {},
   "source": [
    "Kolla att de ursprungligen saknade värden har värden."
   ]
  },
  {
   "cell_type": "code",
   "execution_count": 519,
   "metadata": {},
   "outputs": [
    {
     "name": "stdout",
     "output_type": "stream",
     "text": [
      "<class 'pandas.core.frame.DataFrame'>\n",
      "RangeIndex: 398 entries, 0 to 397\n",
      "Data columns (total 9 columns):\n",
      " #   Column        Non-Null Count  Dtype  \n",
      "---  ------        --------------  -----  \n",
      " 0   mpg           398 non-null    float64\n",
      " 1   cylinders     398 non-null    int64  \n",
      " 2   displacement  398 non-null    float64\n",
      " 3   horsepower    398 non-null    float64\n",
      " 4   weight        398 non-null    int64  \n",
      " 5   acceleration  398 non-null    float64\n",
      " 6   model_year    398 non-null    int64  \n",
      " 7   origin        398 non-null    object \n",
      " 8   name          398 non-null    object \n",
      "dtypes: float64(4), int64(3), object(2)\n",
      "memory usage: 28.1+ KB\n"
     ]
    }
   ],
   "source": [
    "auto.info()"
   ]
  },
  {
   "cell_type": "markdown",
   "metadata": {},
   "source": [
    "E. Train | Val | Test split"
   ]
  },
  {
   "cell_type": "code",
   "execution_count": 520,
   "metadata": {},
   "outputs": [],
   "source": [
    "X = auto[[\"displacement\",\"cylinders\",\"horsepower\",\"weight\",\"acceleration\",\"model_year\",]]  # Features\n",
    "y = auto[\"mpg\"]  # Target\n",
    "# nedan var inte helt rätt:\n",
    "# X_train, X_temp, y_train, y_temp = train_test_split(X, y, test_size=0.2, random_state=42)\n",
    "# X_valid, X_test, y_valid, y_test = train_test_split(X_temp, y_temp, test_size=0.5, random_state=42)\n",
    "\n",
    "# ändrade till denna:\n",
    "X_train, X_test, y_train, y_test = train_test_split(X, y, test_size=0.2, random_state=42)\n",
    "X_train_val, X_val, y_train_val, y_val = train_test_split(X_train, y_train, test_size=80/318, random_state=42)"
   ]
  },
  {
   "cell_type": "markdown",
   "metadata": {},
   "source": [
    "Kollar shape på de olika dataseten:"
   ]
  },
  {
   "cell_type": "code",
   "execution_count": 521,
   "metadata": {},
   "outputs": [
    {
     "name": "stdout",
     "output_type": "stream",
     "text": [
      "Shape: (318, 6)\n",
      "Shape: (238, 6)\n",
      "Shape: (80, 6)\n",
      "Shape: (80, 6)\n"
     ]
    }
   ],
   "source": [
    "#for var in [X_train, X_valid, X_test, y_train, y_valid, y_test]:\n",
    "#    print(f'Shape: {var.shape}')\n",
    "\n",
    "for var in [X_train, X_train_val, X_val, X_test]:\n",
    "    print(f'Shape: {var.shape}')\n",
    "          "
   ]
  },
  {
   "cell_type": "markdown",
   "metadata": {},
   "source": [
    "Normaliserar med StandardScaler / MinMax scaler."
   ]
  },
  {
   "cell_type": "code",
   "execution_count": 522,
   "metadata": {},
   "outputs": [],
   "source": [
    "scaler = StandardScaler()\n",
    "scaler.fit(X_train)\n",
    "\n",
    "X_train_scaled = scaler.transform(X_train)\n",
    "X_train_val_scaled = scaler.transform(X_train_val)\n",
    "X_val_scaled = scaler.transform(X_val)\n",
    "X_test_scaled = scaler.transform(X_test)"
   ]
  },
  {
   "cell_type": "markdown",
   "metadata": {},
   "source": [
    "&nbsp; f) Create an MLP with hidden layers, 1-3, and test out different amount of nodes. Choose the number of epochs you want to use throughout all experiments. Plot training losses and validation losses for different configurations. (*)"
   ]
  },
  {
   "cell_type": "code",
   "execution_count": 548,
   "metadata": {},
   "outputs": [],
   "source": [
    "import keras\n",
    "from keras import layers"
   ]
  },
  {
   "cell_type": "code",
   "execution_count": 560,
   "metadata": {},
   "outputs": [],
   "source": [
    "model = keras.models.Sequential(name=\"Two-hidden-layer-256-RELU-64-SIGMOID\")\n",
    "model.add(layers.InputLayer((X_train.shape[1],), name=\"input_layer\")) # funkar också: model.add(layers.InputLayer((6,), name=\"input_layer\"))\n",
    "model.add(layers.Dense(256, activation='relu', name=\"hidden-layer-1\"))\n",
    "model.add(layers.Dense(64, activation='sigmoid', name=\"hidden-layer-2\"))\n",
    "#model.add(layers.Dense(16, activation='sigmoid',name=\"hidden-layer-3\"))\n",
    "#model.add(layers.Dense(1, activation='linear',name=\"output-layer\"))\n",
    "model.add(layers.Dense(1, activation='linear',name=\"output-layer\"))"
   ]
  },
  {
   "cell_type": "code",
   "execution_count": 561,
   "metadata": {},
   "outputs": [
    {
     "name": "stdout",
     "output_type": "stream",
     "text": [
      "Two-hidden-layer-256-RELU-64-SIGMOID\n"
     ]
    }
   ],
   "source": [
    "print(model.name)"
   ]
  },
  {
   "cell_type": "code",
   "execution_count": 562,
   "metadata": {},
   "outputs": [
    {
     "data": {
      "text/html": [
       "<pre style=\"white-space:pre;overflow-x:auto;line-height:normal;font-family:Menlo,'DejaVu Sans Mono',consolas,'Courier New',monospace\"><span style=\"font-weight: bold\">Model: \"Two-hidden-layer-256-RELU-64-SIGMOID\"</span>\n",
       "</pre>\n"
      ],
      "text/plain": [
       "\u001b[1mModel: \"Two-hidden-layer-256-RELU-64-SIGMOID\"\u001b[0m\n"
      ]
     },
     "metadata": {},
     "output_type": "display_data"
    },
    {
     "data": {
      "text/html": [
       "<pre style=\"white-space:pre;overflow-x:auto;line-height:normal;font-family:Menlo,'DejaVu Sans Mono',consolas,'Courier New',monospace\">┏━━━━━━━━━━━━━━━━━━━━━━━━━━━━━━━━━┳━━━━━━━━━━━━━━━━━━━━━━━━┳━━━━━━━━━━━━━━━┓\n",
       "┃<span style=\"font-weight: bold\"> Layer (type)                    </span>┃<span style=\"font-weight: bold\"> Output Shape           </span>┃<span style=\"font-weight: bold\">       Param # </span>┃\n",
       "┡━━━━━━━━━━━━━━━━━━━━━━━━━━━━━━━━━╇━━━━━━━━━━━━━━━━━━━━━━━━╇━━━━━━━━━━━━━━━┩\n",
       "│ hidden-layer-1 (<span style=\"color: #0087ff; text-decoration-color: #0087ff\">Dense</span>)          │ (<span style=\"color: #00d7ff; text-decoration-color: #00d7ff\">None</span>, <span style=\"color: #00af00; text-decoration-color: #00af00\">256</span>)            │         <span style=\"color: #00af00; text-decoration-color: #00af00\">1,792</span> │\n",
       "├─────────────────────────────────┼────────────────────────┼───────────────┤\n",
       "│ hidden-layer-2 (<span style=\"color: #0087ff; text-decoration-color: #0087ff\">Dense</span>)          │ (<span style=\"color: #00d7ff; text-decoration-color: #00d7ff\">None</span>, <span style=\"color: #00af00; text-decoration-color: #00af00\">64</span>)             │        <span style=\"color: #00af00; text-decoration-color: #00af00\">16,448</span> │\n",
       "├─────────────────────────────────┼────────────────────────┼───────────────┤\n",
       "│ output-layer (<span style=\"color: #0087ff; text-decoration-color: #0087ff\">Dense</span>)            │ (<span style=\"color: #00d7ff; text-decoration-color: #00d7ff\">None</span>, <span style=\"color: #00af00; text-decoration-color: #00af00\">1</span>)              │            <span style=\"color: #00af00; text-decoration-color: #00af00\">65</span> │\n",
       "└─────────────────────────────────┴────────────────────────┴───────────────┘\n",
       "</pre>\n"
      ],
      "text/plain": [
       "┏━━━━━━━━━━━━━━━━━━━━━━━━━━━━━━━━━┳━━━━━━━━━━━━━━━━━━━━━━━━┳━━━━━━━━━━━━━━━┓\n",
       "┃\u001b[1m \u001b[0m\u001b[1mLayer (type)                   \u001b[0m\u001b[1m \u001b[0m┃\u001b[1m \u001b[0m\u001b[1mOutput Shape          \u001b[0m\u001b[1m \u001b[0m┃\u001b[1m \u001b[0m\u001b[1m      Param #\u001b[0m\u001b[1m \u001b[0m┃\n",
       "┡━━━━━━━━━━━━━━━━━━━━━━━━━━━━━━━━━╇━━━━━━━━━━━━━━━━━━━━━━━━╇━━━━━━━━━━━━━━━┩\n",
       "│ hidden-layer-1 (\u001b[38;5;33mDense\u001b[0m)          │ (\u001b[38;5;45mNone\u001b[0m, \u001b[38;5;34m256\u001b[0m)            │         \u001b[38;5;34m1,792\u001b[0m │\n",
       "├─────────────────────────────────┼────────────────────────┼───────────────┤\n",
       "│ hidden-layer-2 (\u001b[38;5;33mDense\u001b[0m)          │ (\u001b[38;5;45mNone\u001b[0m, \u001b[38;5;34m64\u001b[0m)             │        \u001b[38;5;34m16,448\u001b[0m │\n",
       "├─────────────────────────────────┼────────────────────────┼───────────────┤\n",
       "│ output-layer (\u001b[38;5;33mDense\u001b[0m)            │ (\u001b[38;5;45mNone\u001b[0m, \u001b[38;5;34m1\u001b[0m)              │            \u001b[38;5;34m65\u001b[0m │\n",
       "└─────────────────────────────────┴────────────────────────┴───────────────┘\n"
      ]
     },
     "metadata": {},
     "output_type": "display_data"
    },
    {
     "data": {
      "text/html": [
       "<pre style=\"white-space:pre;overflow-x:auto;line-height:normal;font-family:Menlo,'DejaVu Sans Mono',consolas,'Courier New',monospace\"><span style=\"font-weight: bold\"> Total params: </span><span style=\"color: #00af00; text-decoration-color: #00af00\">18,305</span> (71.50 KB)\n",
       "</pre>\n"
      ],
      "text/plain": [
       "\u001b[1m Total params: \u001b[0m\u001b[38;5;34m18,305\u001b[0m (71.50 KB)\n"
      ]
     },
     "metadata": {},
     "output_type": "display_data"
    },
    {
     "data": {
      "text/html": [
       "<pre style=\"white-space:pre;overflow-x:auto;line-height:normal;font-family:Menlo,'DejaVu Sans Mono',consolas,'Courier New',monospace\"><span style=\"font-weight: bold\"> Trainable params: </span><span style=\"color: #00af00; text-decoration-color: #00af00\">18,305</span> (71.50 KB)\n",
       "</pre>\n"
      ],
      "text/plain": [
       "\u001b[1m Trainable params: \u001b[0m\u001b[38;5;34m18,305\u001b[0m (71.50 KB)\n"
      ]
     },
     "metadata": {},
     "output_type": "display_data"
    },
    {
     "data": {
      "text/html": [
       "<pre style=\"white-space:pre;overflow-x:auto;line-height:normal;font-family:Menlo,'DejaVu Sans Mono',consolas,'Courier New',monospace\"><span style=\"font-weight: bold\"> Non-trainable params: </span><span style=\"color: #00af00; text-decoration-color: #00af00\">0</span> (0.00 B)\n",
       "</pre>\n"
      ],
      "text/plain": [
       "\u001b[1m Non-trainable params: \u001b[0m\u001b[38;5;34m0\u001b[0m (0.00 B)\n"
      ]
     },
     "metadata": {},
     "output_type": "display_data"
    }
   ],
   "source": [
    "from keras.optimizers import SGD\n",
    "\n",
    "model.compile(loss=\"mean_squared_error\", optimizer=SGD(learning_rate=.005)) # wa 0.01 initially\n",
    "\n",
    "#model.compile(optimizer='rmsprop', loss='sparse_categorical_crossentropy', metrics=['accuracy'])\n",
    "\n",
    "model.summary()\n",
    "\n"
   ]
  },
  {
   "cell_type": "markdown",
   "metadata": {},
   "source": [
    "G: Implementerar EarlyStopping"
   ]
  },
  {
   "cell_type": "code",
   "execution_count": 478,
   "metadata": {},
   "outputs": [],
   "source": [
    "#model.history.history.keys()\n",
    "#type(model.history.history['loss'])\n",
    "#model.history.history['loss'] = []\n",
    "#model.history.history['val_loss'] = []\n",
    "#print(model.history.history['loss'])\n",
    "#print(model.history.history['val_loss'])"
   ]
  },
  {
   "cell_type": "code",
   "execution_count": 563,
   "metadata": {},
   "outputs": [
    {
     "name": "stdout",
     "output_type": "stream",
     "text": [
      "Epoch 1/25\n",
      "\u001b[1m3/3\u001b[0m \u001b[32m━━━━━━━━━━━━━━━━━━━━\u001b[0m\u001b[37m\u001b[0m \u001b[1m0s\u001b[0m 2ms/step - loss: 520.2280  \n",
      "Epoch 2/25\n",
      "\u001b[1m3/3\u001b[0m \u001b[32m━━━━━━━━━━━━━━━━━━━━\u001b[0m\u001b[37m\u001b[0m \u001b[1m0s\u001b[0m 2ms/step - loss: 193.3953  \n",
      "Epoch 3/25\n",
      "\u001b[1m3/3\u001b[0m \u001b[32m━━━━━━━━━━━━━━━━━━━━\u001b[0m\u001b[37m\u001b[0m \u001b[1m0s\u001b[0m 2ms/step - loss: 73.5668  \n",
      "Epoch 4/25\n",
      "\u001b[1m3/3\u001b[0m \u001b[32m━━━━━━━━━━━━━━━━━━━━\u001b[0m\u001b[37m\u001b[0m \u001b[1m0s\u001b[0m 997us/step - loss: 38.6268\n",
      "Epoch 5/25\n",
      "\u001b[1m3/3\u001b[0m \u001b[32m━━━━━━━━━━━━━━━━━━━━\u001b[0m\u001b[37m\u001b[0m \u001b[1m0s\u001b[0m 998us/step - loss: 23.9034\n",
      "Epoch 6/25\n",
      "\u001b[1m3/3\u001b[0m \u001b[32m━━━━━━━━━━━━━━━━━━━━\u001b[0m\u001b[37m\u001b[0m \u001b[1m0s\u001b[0m 1ms/step - loss: 17.4087  \n",
      "Epoch 7/25\n",
      "\u001b[1m3/3\u001b[0m \u001b[32m━━━━━━━━━━━━━━━━━━━━\u001b[0m\u001b[37m\u001b[0m \u001b[1m0s\u001b[0m 1ms/step - loss: 13.6077  \n",
      "Epoch 8/25\n",
      "\u001b[1m3/3\u001b[0m \u001b[32m━━━━━━━━━━━━━━━━━━━━\u001b[0m\u001b[37m\u001b[0m \u001b[1m0s\u001b[0m 1ms/step - loss: 12.0818  \n",
      "Epoch 9/25\n",
      "\u001b[1m3/3\u001b[0m \u001b[32m━━━━━━━━━━━━━━━━━━━━\u001b[0m\u001b[37m\u001b[0m \u001b[1m0s\u001b[0m 997us/step - loss: 10.2129\n",
      "Epoch 10/25\n",
      "\u001b[1m3/3\u001b[0m \u001b[32m━━━━━━━━━━━━━━━━━━━━\u001b[0m\u001b[37m\u001b[0m \u001b[1m0s\u001b[0m 1ms/step - loss: 8.4899  \n",
      "Epoch 11/25\n",
      "\u001b[1m3/3\u001b[0m \u001b[32m━━━━━━━━━━━━━━━━━━━━\u001b[0m\u001b[37m\u001b[0m \u001b[1m0s\u001b[0m 997us/step - loss: 9.2787\n",
      "Epoch 12/25\n",
      "\u001b[1m3/3\u001b[0m \u001b[32m━━━━━━━━━━━━━━━━━━━━\u001b[0m\u001b[37m\u001b[0m \u001b[1m0s\u001b[0m 996us/step - loss: 8.4618\n",
      "Epoch 13/25\n",
      "\u001b[1m3/3\u001b[0m \u001b[32m━━━━━━━━━━━━━━━━━━━━\u001b[0m\u001b[37m\u001b[0m \u001b[1m0s\u001b[0m 997us/step - loss: 8.9031\n",
      "Epoch 14/25\n",
      "\u001b[1m3/3\u001b[0m \u001b[32m━━━━━━━━━━━━━━━━━━━━\u001b[0m\u001b[37m\u001b[0m \u001b[1m0s\u001b[0m 997us/step - loss: 7.8149\n",
      "Epoch 15/25\n",
      "\u001b[1m3/3\u001b[0m \u001b[32m━━━━━━━━━━━━━━━━━━━━\u001b[0m\u001b[37m\u001b[0m \u001b[1m0s\u001b[0m 1ms/step - loss: 7.9854  \n",
      "Epoch 16/25\n",
      "\u001b[1m3/3\u001b[0m \u001b[32m━━━━━━━━━━━━━━━━━━━━\u001b[0m\u001b[37m\u001b[0m \u001b[1m0s\u001b[0m 996us/step - loss: 7.7668\n",
      "Epoch 17/25\n",
      "\u001b[1m3/3\u001b[0m \u001b[32m━━━━━━━━━━━━━━━━━━━━\u001b[0m\u001b[37m\u001b[0m \u001b[1m0s\u001b[0m 1ms/step - loss: 8.6405  \n",
      "Epoch 18/25\n",
      "\u001b[1m3/3\u001b[0m \u001b[32m━━━━━━━━━━━━━━━━━━━━\u001b[0m\u001b[37m\u001b[0m \u001b[1m0s\u001b[0m 2ms/step - loss: 8.7843  \n",
      "Epoch 19/25\n",
      "\u001b[1m3/3\u001b[0m \u001b[32m━━━━━━━━━━━━━━━━━━━━\u001b[0m\u001b[37m\u001b[0m \u001b[1m0s\u001b[0m 997us/step - loss: 7.5318\n",
      "Epoch 20/25\n",
      "\u001b[1m3/3\u001b[0m \u001b[32m━━━━━━━━━━━━━━━━━━━━\u001b[0m\u001b[37m\u001b[0m \u001b[1m0s\u001b[0m 1ms/step - loss: 6.7124  \n",
      "Epoch 21/25\n",
      "\u001b[1m3/3\u001b[0m \u001b[32m━━━━━━━━━━━━━━━━━━━━\u001b[0m\u001b[37m\u001b[0m \u001b[1m0s\u001b[0m 2ms/step - loss: 8.0249  \n",
      "Epoch 22/25\n",
      "\u001b[1m3/3\u001b[0m \u001b[32m━━━━━━━━━━━━━━━━━━━━\u001b[0m\u001b[37m\u001b[0m \u001b[1m0s\u001b[0m 998us/step - loss: 7.8281\n",
      "Epoch 23/25\n",
      "\u001b[1m3/3\u001b[0m \u001b[32m━━━━━━━━━━━━━━━━━━━━\u001b[0m\u001b[37m\u001b[0m \u001b[1m0s\u001b[0m 2ms/step - loss: 6.7313  \n",
      "Epoch 24/25\n",
      "\u001b[1m3/3\u001b[0m \u001b[32m━━━━━━━━━━━━━━━━━━━━\u001b[0m\u001b[37m\u001b[0m \u001b[1m0s\u001b[0m 2ms/step - loss: 7.5739  \n",
      "Epoch 25/25\n",
      "\u001b[1m3/3\u001b[0m \u001b[32m━━━━━━━━━━━━━━━━━━━━\u001b[0m\u001b[37m\u001b[0m \u001b[1m0s\u001b[0m 1ms/step - loss: 8.1136  \n"
     ]
    },
    {
     "data": {
      "text/plain": [
       "<keras.src.callbacks.history.History at 0x135d84f35f0>"
      ]
     },
     "execution_count": 563,
     "metadata": {},
     "output_type": "execute_result"
    }
   ],
   "source": [
    "from keras.callbacks import EarlyStopping\n",
    "#model.fit(X_train_scaled, y_train, epochs=100, batch_size=32, validation_data=(X_valid_scaled, y_valid)) # utan early stopping\n",
    "early_stopping = EarlyStopping(monitor='val_loss', patience=10, restore_best_weights=True) # early stopping\n",
    "#model.fit(X_train_val_scaled, y_train_val, epochs=100, batch_size=32, validation_data=(X_val_scaled, y_val), callbacks=[early_stopping]) # med early stopping, med valideringsdata\n",
    "model.fit(X_test_scaled, y_test, epochs=25, batch_size=32)#, callbacks=[early_stopping]) # utan early stopping utan valideringsdata"
   ]
  },
  {
   "cell_type": "code",
   "execution_count": 564,
   "metadata": {},
   "outputs": [
    {
     "name": "stdout",
     "output_type": "stream",
     "text": [
      "dict_keys(['loss'])\n",
      "[469.942626953125, 173.48831176757812, 73.01873016357422, 35.91560363769531, 22.115535736083984, 15.908798217773438, 12.838668823242188, 11.209882736206055, 10.267770767211914, 9.500859260559082, 8.881800651550293, 8.7528076171875, 8.413214683532715, 8.372400283813477, 8.20135498046875, 8.05666732788086, 8.013298034667969, 7.75399923324585, 7.7567291259765625, 7.621405124664307, 7.735020637512207, 7.614747047424316, 7.387330532073975, 7.330021858215332, 7.2796311378479]\n",
      "Number of epochs used: 25\n"
     ]
    }
   ],
   "source": [
    "print(model.history.history.keys())\n",
    "print(model.history.history['loss'])\n",
    "#print(model.history.history['val_loss'])\n",
    "print(f\"Number of epochs used: {len(model.history.history['loss'])}\") # uppgift G"
   ]
  },
  {
   "cell_type": "code",
   "execution_count": 566,
   "metadata": {},
   "outputs": [
    {
     "data": {
      "image/png": "[encoded data removed]",
      "text/plain": [
       "<Figure size 800x500 with 1 Axes>"
      ]
     },
     "metadata": {},
     "output_type": "display_data"
    }
   ],
   "source": [
    "pd.DataFrame(model.history.history).plot(figsize=(8, 5), grid=True, title=f\"Loss vs. Epochs\\n{model.name}\\ncomplete train data\", xlabel=\"Epochs\", ylabel=\"Loss\")\n",
    "import plotly.express as px\n",
    "\n",
    "fig = px.line(pd.DataFrame(model.history.history), title=f\"Loss vs. Epochs\\n{model.name}\")\n",
    "fig.update_layout(xaxis_title=\"Epochs\", yaxis_title=\"Loss\")\n",
    "fig.write_html(f\"E0-MLP_loss_vs_epochs_{model.name}_Complete_Train.html\")"
   ]
  },
  {
   "cell_type": "code",
   "execution_count": 542,
   "metadata": {},
   "outputs": [
    {
     "data": {
      "text/plain": [
       "<Axes: title={'center': 'Loss vs. Epochs\\nThree-hidden-layer-256-RELU-64-RELU-16-SIGMOID'}, xlabel='Epochs', ylabel='Loss'>"
      ]
     },
     "execution_count": 542,
     "metadata": {},
     "output_type": "execute_result"
    },
    {
     "data": {
      "image/png": "[encoded data removed]",
      "text/plain": [
       "<Figure size 800x500 with 1 Axes>"
      ]
     },
     "metadata": {},
     "output_type": "display_data"
    }
   ],
   "source": [
    "pd.DataFrame(model.history.history).plot(figsize=(8,5), grid=True, title=f\"Loss vs. Epochs\\n{model.name}\", xlabel=\"Epochs\", ylabel=\"Loss\", ylim=(0, 25))"
   ]
  },
  {
   "cell_type": "code",
   "execution_count": 567,
   "metadata": {},
   "outputs": [
    {
     "name": "stdout",
     "output_type": "stream",
     "text": [
      "{'hidden-layer-1': {'units': 256, 'activation': 'relu', 'use_bias': True, 'trainable': True, 'total params': 1792}, 'hidden-layer-2': {'units': 64, 'activation': 'sigmoid', 'use_bias': True, 'trainable': True, 'total params': 16448}, 'output-layer': {'units': 1, 'activation': 'linear', 'use_bias': True, 'trainable': True, 'total params': 65}}\n"
     ]
    }
   ],
   "source": [
    "# inspect the model\n",
    "model_params ={}\n",
    "layers = model.layers\n",
    "layers\n",
    "for layer in layers:\n",
    "    model_params[layer.name] = {\n",
    "        \"units\": layer.units,\n",
    "        \"activation\": layer.activation.__name__,\n",
    "        \"use_bias\": layer.use_bias,\n",
    "        \"trainable\": layer.trainable,\n",
    "        \"total params\": layer.count_params()\n",
    "    }\n",
    "\n",
    "print(model_params)"
   ]
  },
  {
   "cell_type": "code",
   "execution_count": 568,
   "metadata": {},
   "outputs": [
    {
     "name": "stdout",
     "output_type": "stream",
     "text": [
      "Number of epochs: 25\n",
      "loss = 7.358676195144653\n"
     ]
    }
   ],
   "source": [
    "import numpy as np\n",
    "loss = np.average(model.history.history['loss'][-3:-1])\n",
    "#val_loss = np.average(model.history.history['val_loss'][-3:-1])\n",
    "print(f\"Number of epochs: {len(model.history.history['loss'])}\")\n",
    "print(f\"loss = {loss}\")\n",
    "#print(f\"val_loss = {val_loss}\") "
   ]
  },
  {
   "cell_type": "code",
   "execution_count": 197,
   "metadata": {},
   "outputs": [
    {
     "name": "stdout",
     "output_type": "stream",
     "text": [
      "[]\n"
     ]
    }
   ],
   "source": [
    "print(existing_results)"
   ]
  },
  {
   "cell_type": "code",
   "execution_count": 569,
   "metadata": {},
   "outputs": [],
   "source": [
    "#existing_results = []"
   ]
  },
  {
   "cell_type": "code",
   "execution_count": 570,
   "metadata": {},
   "outputs": [
    {
     "name": "stdout",
     "output_type": "stream",
     "text": [
      "[{'timestamp': '2024-11-19 18:06:40', 'mse': 253.03821237406552, 'r2': 0.8361338874123327, 'loss': 9.406994819641113, 'val_loss': 7.078213930130005, 'Number of epochs': 30, 'Model Parameters': {'hidden-layer-1': {'units': 64, 'activation': 'relu', 'use_bias': True, 'trainable': True, 'total params': 448}, 'hidden-layer-2': {'units': 32, 'activation': 'sigmoid', 'use_bias': True, 'trainable': True, 'total params': 2080}, 'output-layer': {'units': 1, 'activation': 'linear', 'use_bias': True, 'trainable': True, 'total params': 33}}}, {'timestamp': '2024-11-19 18:09:40', 'mse': 253.03821237406552, 'r2': 0.8361338874123327, 'loss': 15.723642826080322, 'val_loss': 9.181439399719238, 'Number of epochs': 30, 'Model Parameters': {'hidden-layer-1': {'units': 64, 'activation': 'relu', 'use_bias': True, 'trainable': True, 'total params': 448}, 'hidden-layer-2': {'units': 32, 'activation': 'relu', 'use_bias': True, 'trainable': True, 'total params': 2080}, 'output-layer': {'units': 1, 'activation': 'linear', 'use_bias': True, 'trainable': True, 'total params': 33}}}, {'timestamp': '2024-11-19 18:12:20', 'mse': 253.03821237406552, 'r2': 0.8361338874123327, 'loss': 10.66450023651123, 'val_loss': 7.138002395629883, 'Number of epochs': 30, 'Model Parameters': {'hidden-layer-1': {'units': 256, 'activation': 'relu', 'use_bias': True, 'trainable': True, 'total params': 1792}, 'hidden-layer-2': {'units': 64, 'activation': 'relu', 'use_bias': True, 'trainable': True, 'total params': 16448}, 'hidden-layer-3': {'units': 16, 'activation': 'relu', 'use_bias': True, 'trainable': True, 'total params': 1040}, 'output-layer': {'units': 1, 'activation': 'linear', 'use_bias': True, 'trainable': True, 'total params': 17}}}, {'timestamp': '2024-11-19 18:12:32', 'mse': 253.03821237406552, 'r2': 0.8361338874123327, 'loss': 10.66450023651123, 'val_loss': 7.138002395629883, 'Number of epochs': 30, 'Model Parameters': {'hidden-layer-1': {'units': 256, 'activation': 'relu', 'use_bias': True, 'trainable': True, 'total params': 1792}, 'hidden-layer-2': {'units': 64, 'activation': 'relu', 'use_bias': True, 'trainable': True, 'total params': 16448}, 'hidden-layer-3': {'units': 16, 'activation': 'relu', 'use_bias': True, 'trainable': True, 'total params': 1040}, 'output-layer': {'units': 1, 'activation': 'linear', 'use_bias': True, 'trainable': True, 'total params': 17}}}, {'timestamp': '2024-11-19 18:13:57', 'mse': 253.03821237406552, 'r2': 0.8361338874123327, 'loss': 9.894030094146729, 'val_loss': 6.946179628372192, 'Number of epochs': 30, 'Model Parameters': {'hidden-layer-1': {'units': 256, 'activation': 'relu', 'use_bias': True, 'trainable': True, 'total params': 1792}, 'hidden-layer-2': {'units': 64, 'activation': 'relu', 'use_bias': True, 'trainable': True, 'total params': 16448}, 'hidden-layer-3': {'units': 16, 'activation': 'sigmoid', 'use_bias': True, 'trainable': True, 'total params': 1040}, 'output-layer': {'units': 1, 'activation': 'linear', 'use_bias': True, 'trainable': True, 'total params': 17}}}, {'timestamp': '2024-11-21 09:17:46', 'mse': 253.03821237406552, 'r2': 0.8361338874123327, 'loss': 9.221603393554688, 'val_loss': 6.830750465393066, 'Number of epochs': 30, 'Model Parameters': {'hidden-layer-1': {'units': 256, 'activation': 'relu', 'use_bias': True, 'trainable': True, 'total params': 1792}, 'hidden-layer-2': {'units': 64, 'activation': 'relu', 'use_bias': True, 'trainable': True, 'total params': 16448}, 'hidden-layer-3': {'units': 16, 'activation': 'sigmoid', 'use_bias': True, 'trainable': True, 'total params': 1040}, 'output-layer': {'units': 1, 'activation': 'linear', 'use_bias': True, 'trainable': True, 'total params': 17}}}, {'timestamp': '2024-11-21 09:23:32', 'mse': 253.03821237406552, 'r2': 0.8361338874123327, 'loss': 7.294004917144775, 'val_loss': 5.749947786331177, 'Number of epochs': 30, 'Model Parameters': {'hidden-layer-1': {'units': 256, 'activation': 'relu', 'use_bias': True, 'trainable': True, 'total params': 1792}, 'hidden-layer-2': {'units': 64, 'activation': 'relu', 'use_bias': True, 'trainable': True, 'total params': 16448}, 'hidden-layer-3': {'units': 16, 'activation': 'sigmoid', 'use_bias': True, 'trainable': True, 'total params': 1040}, 'output-layer': {'units': 1, 'activation': 'linear', 'use_bias': True, 'trainable': True, 'total params': 17}}, 'Scaler': 'StandardScaler'}, {'timestamp': '2024-11-21 09:23:55', 'mse': 253.03821237406552, 'r2': 0.8361338874123327, 'loss': 7.471320629119873, 'val_loss': 5.544003248214722, 'Number of epochs': 30, 'Model Parameters': {'hidden-layer-1': {'units': 256, 'activation': 'relu', 'use_bias': True, 'trainable': True, 'total params': 1792}, 'hidden-layer-2': {'units': 64, 'activation': 'relu', 'use_bias': True, 'trainable': True, 'total params': 16448}, 'hidden-layer-3': {'units': 16, 'activation': 'sigmoid', 'use_bias': True, 'trainable': True, 'total params': 1040}, 'output-layer': {'units': 1, 'activation': 'linear', 'use_bias': True, 'trainable': True, 'total params': 17}}, 'Scaler': 'StandardScaler'}, {'timestamp': '2024-11-21 09:26:57', 'mse': 253.03821237406552, 'r2': 0.8361338874123327, 'loss': 7.286726951599121, 'val_loss': 6.165243148803711, 'Number of epochs': 30, 'Model Parameters': {'hidden-layer-1': {'units': 256, 'activation': 'relu', 'use_bias': True, 'trainable': True, 'total params': 1792}, 'hidden-layer-2': {'units': 64, 'activation': 'relu', 'use_bias': True, 'trainable': True, 'total params': 16448}, 'hidden-layer-3': {'units': 16, 'activation': 'sigmoid', 'use_bias': True, 'trainable': True, 'total params': 1040}, 'output-layer': {'units': 1, 'activation': 'linear', 'use_bias': True, 'trainable': True, 'total params': 17}}, 'Scaler': 'StandardScaler'}, {'timestamp': '2024-11-21 09:28:41', 'mse': 253.03821237406552, 'r2': 0.8361338874123327, 'loss': 7.286726951599121, 'val_loss': 6.165243148803711, 'Number of epochs': 30, 'Model Parameters': {'hidden-layer-1': {'units': 256, 'activation': 'relu', 'use_bias': True, 'trainable': True, 'total params': 1792}, 'hidden-layer-2': {'units': 64, 'activation': 'relu', 'use_bias': True, 'trainable': True, 'total params': 16448}, 'hidden-layer-3': {'units': 16, 'activation': 'sigmoid', 'use_bias': True, 'trainable': True, 'total params': 1040}, 'output-layer': {'units': 1, 'activation': 'linear', 'use_bias': True, 'trainable': True, 'total params': 17}}, 'Scaler': 'StandardScaler'}, {'timestamp': '2024-11-21 09:32:08', 'mse': 253.03821237406552, 'r2': 0.8361338874123327, 'loss': 7.9978249073028564, 'val_loss': 6.026875257492065, 'Number of epochs': 30, 'Model Parameters': {'hidden-layer-1': {'units': 64, 'activation': 'relu', 'use_bias': True, 'trainable': True, 'total params': 448}, 'hidden-layer-2': {'units': 64, 'activation': 'sigmoid', 'use_bias': True, 'trainable': True, 'total params': 4160}, 'output-layer': {'units': 1, 'activation': 'linear', 'use_bias': True, 'trainable': True, 'total params': 65}}, 'Scaler': 'StandardScaler'}, {'timestamp': '2024-11-21 09:34:26', 'mse': 253.03821237406552, 'r2': 0.8361338874123327, 'loss': 7.093548059463501, 'val_loss': 6.143215656280518, 'Number of epochs': 100, 'Model Parameters': {'hidden-layer-1': {'units': 64, 'activation': 'relu', 'use_bias': True, 'trainable': True, 'total params': 448}, 'hidden-layer-2': {'units': 64, 'activation': 'sigmoid', 'use_bias': True, 'trainable': True, 'total params': 4160}, 'output-layer': {'units': 1, 'activation': 'linear', 'use_bias': True, 'trainable': True, 'total params': 65}}, 'Scaler': 'StandardScaler'}, {'timestamp': '2024-11-21 09:44:37', 'mse': 253.03821237406552, 'r2': 0.8361338874123327, 'loss': 7.409161567687988, 'val_loss': 6.062783241271973, 'Number of epochs': 51, 'Model Parameters': {'hidden-layer-1': {'units': 64, 'activation': 'relu', 'use_bias': True, 'trainable': True, 'total params': 448}, 'hidden-layer-2': {'units': 64, 'activation': 'sigmoid', 'use_bias': True, 'trainable': True, 'total params': 4160}, 'output-layer': {'units': 1, 'activation': 'linear', 'use_bias': True, 'trainable': True, 'total params': 65}}, 'Scaler': 'StandardScaler'}, {'timestamp': '2024-11-21 10:19:41', 'mse': 253.03821237406552, 'r2': 0.8361338874123327, 'loss': 6.6903135776519775, 'val_loss': 10.476282119750977, 'Number of epochs': 60, 'Model Parameters': {'hidden-layer-1': {'units': 64, 'activation': 'relu', 'use_bias': True, 'trainable': True, 'total params': 448}, 'hidden-layer-2': {'units': 64, 'activation': 'sigmoid', 'use_bias': True, 'trainable': True, 'total params': 4160}, 'output-layer': {'units': 1, 'activation': 'linear', 'use_bias': True, 'trainable': True, 'total params': 65}}, 'Scaler': 'StandardScaler'}, {'timestamp': '2024-11-21 10:24:01', 'mse': 253.03821237406552, 'r2': 0.8361338874123327, 'loss': 6.990408658981323, 'val_loss': 10.476282119750977, 'Number of epochs': 100, 'Model Parameters': {'hidden-layer-1': {'units': 64, 'activation': 'relu', 'use_bias': True, 'trainable': True, 'total params': 448}, 'hidden-layer-2': {'units': 64, 'activation': 'sigmoid', 'use_bias': True, 'trainable': True, 'total params': 4160}, 'output-layer': {'units': 1, 'activation': 'linear', 'use_bias': True, 'trainable': True, 'total params': 65}}, 'Scaler': 'StandardScaler', 'Data': 'TrÃ¤nar pÃ¥ hele datasettet'}, {'timestamp': '2024-11-21 10:34:26', 'mse': 253.03821237406552, 'r2': 0.8361338874123327, 'loss': 6.271114349365234, 'val_loss': 10.476282119750977, 'Number of epochs': 50, 'Model Parameters': {'hidden-layer-1': {'units': 64, 'activation': 'relu', 'use_bias': True, 'trainable': True, 'total params': 448}, 'hidden-layer-2': {'units': 64, 'activation': 'sigmoid', 'use_bias': True, 'trainable': True, 'total params': 4160}, 'output-layer': {'units': 1, 'activation': 'linear', 'use_bias': True, 'trainable': True, 'total params': 65}}, 'Scaler': 'StandardScaler', 'Data': 'Evaluation on test data with optimum nbr of epochs'}, {'timestamp': '2024-11-21 14:01:59', 'model name': 'Shallow_network', 'loss function': 'mean_squared_error', 'mse': 253.03821237406552, 'r2': 0.8361338874123327, 'loss': 11.614463329315186, 'val_loss': 10.476282119750977, 'Number of epochs': 100, 'Model Parameters': {'output-layer': {'units': 1, 'activation': 'linear', 'use_bias': True, 'trainable': True, 'total params': 7}}, 'Scaler': 'StandardScaler', 'Misc': ' '}, {'timestamp': '2024-11-21 14:09:26', 'model name': 'Two-hidden-layer-256-RELU-64-Sigmoid', 'loss function': 'mean_squared_error', 'mse': 253.03821237406552, 'r2': 0.8361338874123327, 'loss': 6.288654565811157, 'val_loss': 10.476282119750977, 'Number of epochs': 52, 'Model Parameters': {'hidden-layer-1': {'units': 256, 'activation': 'relu', 'use_bias': True, 'trainable': True, 'total params': 1792}, 'hidden-layer-2': {'units': 64, 'activation': 'sigmoid', 'use_bias': True, 'trainable': True, 'total params': 16448}, 'output-layer': {'units': 1, 'activation': 'linear', 'use_bias': True, 'trainable': True, 'total params': 65}}, 'Scaler': 'StandardScaler', 'Misc': ' '}, {'timestamp': '2024-11-21 14:12:18', 'model name': 'Three-hidden-layer-256-RELU-64-RELU-16-SIGMOID', 'loss function': 'mean_squared_error', 'mse': 253.03821237406552, 'r2': 0.8361338874123327, 'loss': 4.845454692840576, 'val_loss': 10.476282119750977, 'Number of epochs': 99, 'Model Parameters': {'hidden-layer-1': {'units': 256, 'activation': 'relu', 'use_bias': True, 'trainable': True, 'total params': 1792}, 'hidden-layer-2': {'units': 64, 'activation': 'relu', 'use_bias': True, 'trainable': True, 'total params': 16448}, 'hidden-layer-3': {'units': 16, 'activation': 'sigmoid', 'use_bias': True, 'trainable': True, 'total params': 1040}, 'output-layer': {'units': 1, 'activation': 'linear', 'use_bias': True, 'trainable': True, 'total params': 17}}, 'Scaler': 'StandardScaler', 'Misc': ' '}]\n"
     ]
    }
   ],
   "source": [
    "from datetime import datetime\n",
    "import json\n",
    "import os\n",
    "\n",
    "scaler_info = r\"StandardScaler\"\n",
    "now = datetime.now()\n",
    "results = {\n",
    "    \"timestamp\": now.strftime(\"%Y-%m-%d %H:%M:%S\"),\n",
    "    \"model name\": model.name,\n",
    "    \"loss function\": model.loss,\n",
    "    \"mse\": mse,\n",
    "    \"r2\": r2,\n",
    "    \"loss\": loss,\n",
    "    \"val_loss\": val_loss,\n",
    "    \"Number of epochs\": len(model.history.history['loss']),\n",
    "    \"Model Parameters\": model_params,\n",
    "    \"Scaler\": scaler_info,\n",
    "    \"Misc\" : \" \"\n",
    "}\n",
    "\n",
    "# Load existing results if the file exists and is not empty\n",
    "if os.path.exists(\"E0-MLP_Results.json\") and os.path.getsize(\"E0-MLP_Results.json\") > 0:\n",
    "    try:\n",
    "        with open(\"E0-MLP_Results.json\", \"r\") as f:\n",
    "            existing_results = json.load(f)\n",
    "            if not isinstance(existing_results, list):\n",
    "                existing_results = []\n",
    "    except json.JSONDecodeError:\n",
    "        existing_results = []\n",
    "else:\n",
    "    existing_results = []\n",
    "print(existing_results)\n",
    "# Append new results\n",
    "existing_results.append(results)\n",
    "#print(existing_results)\n",
    "# Save updated results\n",
    "with open(\"E0-MLP_Results.json\", \"w\") as f:\n",
    "    json.dump(existing_results, f)"
   ]
  },
  {
   "cell_type": "code",
   "execution_count": 141,
   "metadata": {},
   "outputs": [
    {
     "data": {
      "text/plain": [
       "[{'timestamp': '2024-11-19 18:06:40',\n",
       "  'mse': 253.03821237406552,\n",
       "  'r2': 0.8361338874123327,\n",
       "  'loss': 9.406994819641113,\n",
       "  'val_loss': 7.078213930130005,\n",
       "  'Number of epochs': 30,\n",
       "  'Model Parameters': {'hidden-layer-1': {'units': 64,\n",
       "    'activation': 'relu',\n",
       "    'use_bias': True,\n",
       "    'trainable': True,\n",
       "    'total params': 448},\n",
       "   'hidden-layer-2': {'units': 32,\n",
       "    'activation': 'sigmoid',\n",
       "    'use_bias': True,\n",
       "    'trainable': True,\n",
       "    'total params': 2080},\n",
       "   'output-layer': {'units': 1,\n",
       "    'activation': 'linear',\n",
       "    'use_bias': True,\n",
       "    'trainable': True,\n",
       "    'total params': 33}}},\n",
       " {'timestamp': '2024-11-19 18:09:40',\n",
       "  'mse': 253.03821237406552,\n",
       "  'r2': 0.8361338874123327,\n",
       "  'loss': 15.723642826080322,\n",
       "  'val_loss': 9.181439399719238,\n",
       "  'Number of epochs': 30,\n",
       "  'Model Parameters': {'hidden-layer-1': {'units': 64,\n",
       "    'activation': 'relu',\n",
       "    'use_bias': True,\n",
       "    'trainable': True,\n",
       "    'total params': 448},\n",
       "   'hidden-layer-2': {'units': 32,\n",
       "    'activation': 'relu',\n",
       "    'use_bias': True,\n",
       "    'trainable': True,\n",
       "    'total params': 2080},\n",
       "   'output-layer': {'units': 1,\n",
       "    'activation': 'linear',\n",
       "    'use_bias': True,\n",
       "    'trainable': True,\n",
       "    'total params': 33}}},\n",
       " {'timestamp': '2024-11-19 18:12:20',\n",
       "  'mse': 253.03821237406552,\n",
       "  'r2': 0.8361338874123327,\n",
       "  'loss': 10.66450023651123,\n",
       "  'val_loss': 7.138002395629883,\n",
       "  'Number of epochs': 30,\n",
       "  'Model Parameters': {'hidden-layer-1': {'units': 256,\n",
       "    'activation': 'relu',\n",
       "    'use_bias': True,\n",
       "    'trainable': True,\n",
       "    'total params': 1792},\n",
       "   'hidden-layer-2': {'units': 64,\n",
       "    'activation': 'relu',\n",
       "    'use_bias': True,\n",
       "    'trainable': True,\n",
       "    'total params': 16448},\n",
       "   'hidden-layer-3': {'units': 16,\n",
       "    'activation': 'relu',\n",
       "    'use_bias': True,\n",
       "    'trainable': True,\n",
       "    'total params': 1040},\n",
       "   'output-layer': {'units': 1,\n",
       "    'activation': 'linear',\n",
       "    'use_bias': True,\n",
       "    'trainable': True,\n",
       "    'total params': 17}}},\n",
       " {'timestamp': '2024-11-19 18:12:32',\n",
       "  'mse': 253.03821237406552,\n",
       "  'r2': 0.8361338874123327,\n",
       "  'loss': 10.66450023651123,\n",
       "  'val_loss': 7.138002395629883,\n",
       "  'Number of epochs': 30,\n",
       "  'Model Parameters': {'hidden-layer-1': {'units': 256,\n",
       "    'activation': 'relu',\n",
       "    'use_bias': True,\n",
       "    'trainable': True,\n",
       "    'total params': 1792},\n",
       "   'hidden-layer-2': {'units': 64,\n",
       "    'activation': 'relu',\n",
       "    'use_bias': True,\n",
       "    'trainable': True,\n",
       "    'total params': 16448},\n",
       "   'hidden-layer-3': {'units': 16,\n",
       "    'activation': 'relu',\n",
       "    'use_bias': True,\n",
       "    'trainable': True,\n",
       "    'total params': 1040},\n",
       "   'output-layer': {'units': 1,\n",
       "    'activation': 'linear',\n",
       "    'use_bias': True,\n",
       "    'trainable': True,\n",
       "    'total params': 17}}},\n",
       " {'timestamp': '2024-11-19 18:13:57',\n",
       "  'mse': 253.03821237406552,\n",
       "  'r2': 0.8361338874123327,\n",
       "  'loss': 9.894030094146729,\n",
       "  'val_loss': 6.946179628372192,\n",
       "  'Number of epochs': 30,\n",
       "  'Model Parameters': {'hidden-layer-1': {'units': 256,\n",
       "    'activation': 'relu',\n",
       "    'use_bias': True,\n",
       "    'trainable': True,\n",
       "    'total params': 1792},\n",
       "   'hidden-layer-2': {'units': 64,\n",
       "    'activation': 'relu',\n",
       "    'use_bias': True,\n",
       "    'trainable': True,\n",
       "    'total params': 16448},\n",
       "   'hidden-layer-3': {'units': 16,\n",
       "    'activation': 'sigmoid',\n",
       "    'use_bias': True,\n",
       "    'trainable': True,\n",
       "    'total params': 1040},\n",
       "   'output-layer': {'units': 1,\n",
       "    'activation': 'linear',\n",
       "    'use_bias': True,\n",
       "    'trainable': True,\n",
       "    'total params': 17}}},\n",
       " {'timestamp': '2024-11-21 09:17:46',\n",
       "  'mse': 253.03821237406552,\n",
       "  'r2': 0.8361338874123327,\n",
       "  'loss': 9.221603393554688,\n",
       "  'val_loss': 6.830750465393066,\n",
       "  'Number of epochs': 30,\n",
       "  'Model Parameters': {'hidden-layer-1': {'units': 256,\n",
       "    'activation': 'relu',\n",
       "    'use_bias': True,\n",
       "    'trainable': True,\n",
       "    'total params': 1792},\n",
       "   'hidden-layer-2': {'units': 64,\n",
       "    'activation': 'relu',\n",
       "    'use_bias': True,\n",
       "    'trainable': True,\n",
       "    'total params': 16448},\n",
       "   'hidden-layer-3': {'units': 16,\n",
       "    'activation': 'sigmoid',\n",
       "    'use_bias': True,\n",
       "    'trainable': True,\n",
       "    'total params': 1040},\n",
       "   'output-layer': {'units': 1,\n",
       "    'activation': 'linear',\n",
       "    'use_bias': True,\n",
       "    'trainable': True,\n",
       "    'total params': 17}}},\n",
       " {'timestamp': '2024-11-21 09:23:32',\n",
       "  'mse': 253.03821237406552,\n",
       "  'r2': 0.8361338874123327,\n",
       "  'loss': 7.294004917144775,\n",
       "  'val_loss': 5.749947786331177,\n",
       "  'Number of epochs': 30,\n",
       "  'Model Parameters': {'hidden-layer-1': {'units': 256,\n",
       "    'activation': 'relu',\n",
       "    'use_bias': True,\n",
       "    'trainable': True,\n",
       "    'total params': 1792},\n",
       "   'hidden-layer-2': {'units': 64,\n",
       "    'activation': 'relu',\n",
       "    'use_bias': True,\n",
       "    'trainable': True,\n",
       "    'total params': 16448},\n",
       "   'hidden-layer-3': {'units': 16,\n",
       "    'activation': 'sigmoid',\n",
       "    'use_bias': True,\n",
       "    'trainable': True,\n",
       "    'total params': 1040},\n",
       "   'output-layer': {'units': 1,\n",
       "    'activation': 'linear',\n",
       "    'use_bias': True,\n",
       "    'trainable': True,\n",
       "    'total params': 17}},\n",
       "  'Scaler': 'StandardScaler'},\n",
       " {'timestamp': '2024-11-21 09:23:55',\n",
       "  'mse': np.float64(253.03821237406552),\n",
       "  'r2': 0.8361338874123327,\n",
       "  'loss': np.float64(7.471320629119873),\n",
       "  'val_loss': np.float64(5.544003248214722),\n",
       "  'Number of epochs': 30,\n",
       "  'Model Parameters': {'hidden-layer-1': {'units': 256,\n",
       "    'activation': 'relu',\n",
       "    'use_bias': True,\n",
       "    'trainable': True,\n",
       "    'total params': 1792},\n",
       "   'hidden-layer-2': {'units': 64,\n",
       "    'activation': 'relu',\n",
       "    'use_bias': True,\n",
       "    'trainable': True,\n",
       "    'total params': 16448},\n",
       "   'hidden-layer-3': {'units': 16,\n",
       "    'activation': 'sigmoid',\n",
       "    'use_bias': True,\n",
       "    'trainable': True,\n",
       "    'total params': 1040},\n",
       "   'output-layer': {'units': 1,\n",
       "    'activation': 'linear',\n",
       "    'use_bias': True,\n",
       "    'trainable': True,\n",
       "    'total params': 17}},\n",
       "  'Scaler': 'StandardScaler'}]"
      ]
     },
     "execution_count": 141,
     "metadata": {},
     "output_type": "execute_result"
    }
   ],
   "source": [
    "existing_results\n",
    "#with open(\"existing_results.json\", \"w\") as f:\n",
    "#    json.dump(existing_results, f)"
   ]
  },
  {
   "cell_type": "markdown",
   "metadata": {},
   "source": [
    "G: När man ska använda EarlyStopping så måste man först importera den:  \n",
    "  \n",
    "`from keras.callbacks import EarlyStopping)`\n",
    "  \n",
    "Sedan definera en variabel med olika inställningar för EarlyStopping, samt därefter addera den till model.fit()  \n",
    "  \n",
    "`early_stopping = EarlyStopping(monitor='val_loss', patience=10, restore_best_weights=True)`  \n",
    "`model.fit(X_train_scaled, y_train, epochs=100, batch_size=32, validation_data=(X_valid_scaled, y_valid), callbacks=[early_stopping])`  \n",
    "  \n",
    "H: Man använder EarlyStopping för att hitta antale epochs. När man ska träna på all träningsdata (inklusive valideringsdatan), så får man manuellt ändra till den datan som man ska använda.\n",
    "  \n",
    "Det är viktigt att man definierar sina dataset korrekt. Jag gjorde fel i början, man ska ha ett X_train + X_test (initialt). Sedan ska man dela upp X_train i X_train_val och X_val. Man använde valideringsdatasetet för att mha EarlyStopping hitta antalet epoker. Sedan tränar man på hela datasetet, och slutligen evaluerar man modellen med X_test."
   ]
  },
  {
   "cell_type": "markdown",
   "metadata": {},
   "source": [
    "I: Predict on test data and evaluate: Bästa antalet epoker var ungefär 25 stycken. Ändrade datasetet till X_test och y_test. Loss blev 7.35. Vald loss funktion är \"mean squared error\". Dvs, i medel predikterar vi ungefär roten ur 6.27 mpg fel, vilket är 2.5 mpg."
   ]
  },
  {
   "cell_type": "markdown",
   "metadata": {},
   "source": [
    "## 1. MLP for classification (**)\n",
    "\n",
    "Use the heart dataset that you worked with in the lab in Machine learning course and train an MLP on it. Gather your knowledge of MLP from the lecture and from the previous exercise to try and see if you can outperform your previous model. Note that an important part is to perform systematic scientific experimentation. "
   ]
  },
  {
   "cell_type": "markdown",
   "metadata": {},
   "source": [
    "---\n",
    "\n",
    "Kokchun Giang\n",
    "\n",
    "[LinkedIn][linkedIn_kokchun]\n",
    "\n",
    "[GitHub portfolio][github_portfolio]\n",
    "\n",
    "[linkedIn_kokchun]: https://www.linkedin.com/in/kokchungiang/\n",
    "[github_portfolio]: https://github.com/kokchun/Portfolio-Kokchun-Giang\n",
    "\n",
    "---"
   ]
  }
 ],
 "metadata": {
  "kernelspec": {
   "display_name": ".venv",
   "language": "python",
   "name": "python3"
  },
  "language_info": {
   "codemirror_mode": {
    "name": "ipython",
    "version": 3
   },
   "file_extension": ".py",
   "mimetype": "text/x-python",
   "name": "python",
   "nbconvert_exporter": "python",
   "pygments_lexer": "ipython3",
   "version": "3.12.6"
  },
  "orig_nbformat": 4
 },
 "nbformat": 4,
 "nbformat_minor": 2
}
