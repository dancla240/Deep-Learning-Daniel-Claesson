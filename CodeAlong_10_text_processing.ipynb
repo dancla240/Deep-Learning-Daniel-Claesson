{
 "cells": [
  {
   "cell_type": "markdown",
   "metadata": {},
   "source": [
    "### Text processing\n",
    "- What is the topic of this text? (classification)\n",
    "- Does this text contain abuse? (moderation)\n",
    "- Positive or negative? (sentiment analysis)\n",
    "- Sentence completion. (language modelling)\n",
    "- How to say in Dutch? (Translation)\n",
    "- Produce a summary. (summarization)\n",
    "  \n",
    "Viktigt: nätverket förstår egentligen ingentig, det är bara matematik i bakgrunden.\n",
    "  \n",
    "Ungefär fram till 2017 var RNN och LSTM stora inom text processing. Sedan tog LLM'er över.  \n",
    "  \n",
    "#### What need to be done to process text for neural networks?\n",
    "- Standardizing: convert to lower (or upper) case, remove punctuation (med försiktighet, eftersom en del punkter, frågetecken mm innehåller information om sentiment).\n",
    "- tex frågetecken innehåler information om att det är en fråga.\n",
    "- Tokenization: split the text into units (tokens), such as characters, words, groups of words, clauses in sentences, etc.\n",
    "- Convert all tokens to a tensor. This means (typically) indexing the tokens.\n",
    "  \n",
    "#### Example\n",
    "The cat sat on the mat.  \n",
    "the cat sat on the mat  \n",
    "[\"cat\", \"sat\", \"on\", \"mat\"]  \n",
    "[2, 34, 53, 8]\n",
    "sedan gör man one hot encoding (vanligt i alla fall), den blir väldigt stor, lika många dimensioner som det finns tokens.  \n",
    "Ett annat sätt man gör om: è => e (detta innebär en risk, eftersom betydelsen kan bli lidande)\n",
    "I många språk kan man inte göra \"punctuation\" hur som helst, och det beror på språket.  "
   ]
  },
  {
   "cell_type": "markdown",
   "metadata": {},
   "source": [
    "### Three ways of handling tokens\n",
    "#### Word-level tokenization\n",
    "So called \"world-level tokenization\"  \n",
    "Tokens are space-separated substrings (or punctuation-separated if appropriate).  A variant also splits into subwords, which is especialy important for agglutinating and composing languages, such as Finnish or Swedish. (bildörr, en, ett, dörren, bilen, bil osv) Man behöver kunskap om språken.\n",
    "#### N-gram tokenization (vanligast)\n",
    "- Tokens are groups of N consecutive words. For example, \"the cat\", \"he was\", \"over there\" (\"2-grams\", \"bigrams\")\n",
    "#### Caracter-level tokenization\n",
    "- each caracter is its own token. In practice, useful for languages with rich writing systems or pictographic writing (cyrillic, japanese, chinese etc)\n",
    "- kollar på varje bokstav, men det är ett specialfall\n",
    "  \n",
    "Dataset: https://ai.stanford.edu/~amaas/data/sentiment/aclImdb_v1.tar.gz\n",
    "\n",
    "Det "
   ]
  },
  {
   "cell_type": "markdown",
   "metadata": {},
   "source": [
    "### Ladda ner och extrahera datan:\n",
    "- Ladda ner filen (.gz fil) som innehåller all data. Flytta den från nddladdad foldern till data foldern i repot manuellt.\n",
    "- Koden nedan extraherar .gz-filen till en .tar fil:"
   ]
  },
  {
   "cell_type": "code",
   "execution_count": 50,
   "metadata": {},
   "outputs": [
    {
     "name": "stdout",
     "output_type": "stream",
     "text": [
      "Extraction complete!\n"
     ]
    }
   ],
   "source": [
    "import gzip\n",
    "import shutil\n",
    "\n",
    "# Path to the .gz file and the output file\n",
    "input_file = r\"data\\aclImdb_v1.tar.gz\"\n",
    "output_file = r\"data\\aclImdb_v1.tar\"\n",
    "\n",
    "# Extract the .gz file\n",
    "with gzip.open(input_file, 'rb') as f_in:\n",
    "    with open(output_file, 'wb') as f_out:\n",
    "        shutil.copyfileobj(f_in, f_out)\n",
    "\n",
    "print(\"Extraction complete!\")\n"
   ]
  },
  {
   "cell_type": "markdown",
   "metadata": {},
   "source": [
    "Extrahera .tar filen till data\\text foldern. Alla folders mm som behövs skapas av sig själv."
   ]
  },
  {
   "cell_type": "code",
   "execution_count": 51,
   "metadata": {},
   "outputs": [
    {
     "name": "stderr",
     "output_type": "stream",
     "text": [
      "C:\\Users\\danie\\AppData\\Local\\Temp\\ipykernel_26472\\1607837405.py:9: DeprecationWarning: Python 3.14 will, by default, filter extracted tar archives and reject files or modify their metadata. Use the filter argument to control this behavior.\n",
      "  tar.extractall(path=output_dir)\n"
     ]
    },
    {
     "name": "stdout",
     "output_type": "stream",
     "text": [
      "Extraction complete!\n"
     ]
    }
   ],
   "source": [
    "import tarfile\n",
    "\n",
    "# Path to the .tar file\n",
    "input_tar = r\"data\\aclImdb_v1.tar\"\n",
    "output_dir = r\"data\\text\"\n",
    "\n",
    "# Extract the .tar file\n",
    "with tarfile.open(input_tar, 'r:') as tar:\n",
    "    tar.extractall(path=output_dir)\n",
    "\n",
    "print(\"Extraction complete!\")\n"
   ]
  },
  {
   "cell_type": "markdown",
   "metadata": {},
   "source": [
    "Tar bort nedladdade filen och lite andra filer som inte behövs."
   ]
  },
  {
   "cell_type": "code",
   "execution_count": 52,
   "metadata": {},
   "outputs": [
    {
     "name": "stdout",
     "output_type": "stream",
     "text": [
      "Removed directory: data\\text\\aclImdb\\train\\unsup\n",
      "Removed file: data\\text\\aclImdb\\train\\urls_unsup.txt\n",
      "Removed file: data\\aclImdb_v1.tar\n",
      "Removed file: data\\aclImdb_v1.tar.gz\n"
     ]
    }
   ],
   "source": [
    "import os\n",
    "\n",
    "files_to_remove = [\n",
    "    r\"data\\text\\aclImdb\\train\\unsup\",\n",
    "    r\"data\\text\\aclImdb\\train\\urls_unsup.txt\",\n",
    "    r\"data\\aclImdb_v1.tar\",\n",
    "    r\"data\\aclImdb_v1.tar.gz\"\n",
    "]\n",
    "\n",
    "for file_path in files_to_remove:\n",
    "    try:\n",
    "        if os.path.isfile(file_path):\n",
    "            os.remove(file_path)\n",
    "            print(f\"Removed file: {file_path}\")\n",
    "        elif os.path.isdir(file_path):\n",
    "            shutil.rmtree(file_path)\n",
    "            print(f\"Removed directory: {file_path}\")\n",
    "    except Exception as e:\n",
    "        print(f\"Error removing {file_path}: {e}\")"
   ]
  },
  {
   "cell_type": "markdown",
   "metadata": {},
   "source": [
    "### Skapar validerings dataset"
   ]
  },
  {
   "cell_type": "code",
   "execution_count": 53,
   "metadata": {},
   "outputs": [],
   "source": [
    "import os, pathlib, shutil, random\n",
    "basedir = pathlib.Path(\"data/text/aclImdb\")\n",
    "val_dir = basedir / \"val\"\n",
    "train_dir = basedir / \"train\"\n",
    "\n",
    "for category in (\"neg\", \"pos\"):\n",
    "    if not os.path.exists(val_dir / category):\n",
    "        os.makedirs(val_dir / category)\n",
    "    files = os.listdir(train_dir / category)\n",
    "    random.Random(1337).shuffle(files)\n",
    "    num_val_samples = int(0.2 * len(files))\n",
    "    val_files = files[-num_val_samples:]\n",
    "    for fname in val_files:\n",
    "        shutil.move(train_dir / category / fname, val_dir / category / fname)"
   ]
  },
  {
   "cell_type": "code",
   "execution_count": 54,
   "metadata": {},
   "outputs": [
    {
     "name": "stdout",
     "output_type": "stream",
     "text": [
      "Found 20000 files belonging to 2 classes.\n",
      "Found 5000 files belonging to 2 classes.\n",
      "Found 25000 files belonging to 2 classes.\n"
     ]
    }
   ],
   "source": [
    "import keras\n",
    "batch_size = 32\n",
    "\n",
    "train_ds = keras.utils.text_dataset_from_directory(train_dir, batch_size=batch_size)\n",
    "val_ds = keras.utils.text_dataset_from_directory(val_dir, batch_size=batch_size)\n",
    "test_ds = keras.utils.text_dataset_from_directory(basedir / \"test\", batch_size=batch_size)"
   ]
  },
  {
   "cell_type": "markdown",
   "metadata": {},
   "source": [
    "Examining the train_ds variable a bit. The file contains a text and an associated label:"
   ]
  },
  {
   "cell_type": "code",
   "execution_count": 55,
   "metadata": {},
   "outputs": [
    {
     "name": "stdout",
     "output_type": "stream",
     "text": [
      "['neg', 'pos']\n",
      "(TensorSpec(shape=(None,), dtype=tf.string, name=None), TensorSpec(shape=(None,), dtype=tf.int32, name=None))\n",
      "<class 'tensorflow.python.data.ops.prefetch_op._PrefetchDataset'>\n",
      "Text: b'\"8 SIMPLE RULES... FOR DATING MY TEENAGE DAUGHTER,\" is my opinion, is an absolute ABC classic! I\\'m not sure I haven\\'t seen every episode, but I still enjoyed it. It\\'s hard to say which episode was my favorite. However, I think it was always funny when a mishap occurred. I always laughed at that. Despite the fact that James Garner and David Spade were good, I liked the show more when John Ritter was the leading man. If you ask me, his sudden passing was very tragic. Everyone always gave a good performance, the production design was spectacular, the costumes were well-designed, and the writing was always very strong. In conclusion, I hope some network brings it back on the air for fans of the show to see.'\n",
      "Label: 1\n",
      "Text: b\"Rob Roy is and underrated epic of passion and action!SOME MILD SPOILERS WITHIN. Liam Neeson gives a towering performance as Rob Roy MacGregor,one of the best in his career.Jessica Lange is letter-perfect as his wife Mary.They have the most passion and chemistry I've seen in a screen couple.John Hurt gives his best snotty aristocrat performance.Tim Roth portrays one of the great screen villains.His rape of Mary is repugnant and harrowing.He really is a magnificent bastard in this movie.The final duel between Rob and Cunningham is one of the best swordfights ever.Well scripted ans scored,and Michael Caton-Jones direction is flawless. 10 out of 10.\"\n",
      "Label: 1\n",
      "Text: b'\"National Lampoon Goes to the Movies\" is the worst movie ever made, surpassing even the witless \"Plan 9 from Outer Space.\" At least that movie was just inept; the Lampoon film, on the other hand, is both inept and mean. Once upon a time, movies used to respect their audiences\\' intelligence. This one, however, holds a fetid, rotting carcass up to our faces -- and then tries to rub our noses in it.<br /><br />Another reviewer on this site wrote that the only good parts of the movie are the nude scenes; and I agree, Misses Ganzel and Dusenberry do flash a bit of flesh, and very nice flesh it is. But the directors seem not to realize that even T&A needs a good story to surround it. There\\'s none of that here.<br /><br />Perversely, the film makers save the worst for last. The third of the three segments is the ugliest of the trio. In this vignette, Robby Benson plays an eager-beaver young police officer reporting for duty on his first day on the job. He is paired with a weary, cynical oldtimer played by Richard Widmark. For just a moment, we are given hope that this film will end triumphantly. Surely, we think, the youngster\\'s spunky attitude will rub off on the cynic and change him for the better.<br /><br />Forlorn hope! Instead, the cynic wins the day -- and the youngster\\'s spark is doused forever. \"National Lampoon Goes to the Movies\" and heads right for the toilet, asking us to follow it down the drain. Nominally, this is a comedy. But where\\'s the humor?'\n",
      "Label: 0\n",
      "Text: b\"Although this film was made before Dogme emerged as the predominant method of filmmaking, and before digital triumphed over -- strike that. You get the point. This 1991 masterpiece clearly anticipated those developments. Corin Nemec is just outstanding as the ne'er do well author and narrator. The pace is slow, but elegantly so, because the cinematography is so beautiful. Record it the next time its on T.V., because I guarantee you'll never see a better nostalgia rip-off made-for- T.V. movie. Direct-to-video never felt so good!\"\n",
      "Label: 0\n",
      "Text: b\"Outside of the fact that George Lopez is a pretentious jerk, his show is terrible.<br /><br />Nothing about Lopez has ever been funny. I have watched his stand-up and have never uttered any resemblance to a laugh.<br /><br />His stuff comes across as vindictive and his animosity towards white people oozes out of every single pore of his body.<br /><br />I have laughed at white people jokes from many a comedian and love many of them.<br /><br />This guy has a grudge that won't end.<br /><br />I feel bad for Hispanics who have only this show to represent themselves.<br /><br />The shows plots are always cookie cutter with an Hispanic accent.<br /><br />Canned laugh at the dumbest comments and scenes.<br /><br />Might be why this show is always on at 2AM in replay.\"\n",
      "Label: 0\n",
      "(TensorSpec(shape=(None,), dtype=tf.string, name=None), TensorSpec(shape=(None,), dtype=tf.int32, name=None))\n",
      "Number of batches in train_ds: 625\n"
     ]
    }
   ],
   "source": [
    "print(train_ds.class_names)\n",
    "print(train_ds.element_spec)\n",
    "print(type(train_ds))\n",
    "\n",
    "for text_batch, label_batch in train_ds.take(1):\n",
    "    for i in range(5):\n",
    "        print(f\"Text: {text_batch.numpy()[i]}\")\n",
    "        print(f\"Label: {label_batch.numpy()[i]}\")\n",
    "\n",
    "print(train_ds.element_spec)\n",
    "print(f\"Number of batches in train_ds: {len(train_ds)}\")"
   ]
  },
  {
   "cell_type": "code",
   "execution_count": 58,
   "metadata": {},
   "outputs": [
    {
     "name": "stdout",
     "output_type": "stream",
     "text": [
      "inputs: (32,), <dtype: 'string'>\n",
      "targets: (32,), <dtype: 'int32'>\n",
      "inputs[0]: tf.Tensor(b\"This movie is a blatant attempt by the left in Hollywood to portray Reagan's administration as incompetent and bungling. Some mistakes may have been made at the time of the crisis, but I'm sure not to the extent portrayed in this lame movie. My first reaction was that this movie had to have been directed by Oliver Stone, but I was wrong this time. There are apparently many others.\", shape=(), dtype=string)\n",
      "targets[0]: tf.Tensor(0, shape=(), dtype=int32)\n"
     ]
    }
   ],
   "source": [
    "for inputs, targets in train_ds:\n",
    "    print(f\"inputs: {inputs.shape}, {inputs.dtype}\")\n",
    "    print(f\"targets: {targets.shape}, {targets.dtype}\")\n",
    "    print(\"inputs[0]:\", inputs[0])\n",
    "    print(\"targets[0]:\", targets[0])\n",
    "    break"
   ]
  },
  {
   "cell_type": "code",
   "execution_count": 85,
   "metadata": {},
   "outputs": [
    {
     "name": "stdout",
     "output_type": "stream",
     "text": [
      "Targets: [1 0 0 1 0 1 0 0 1 1 1 0 0 1 1 0 1 0 0 1 1 0 1 0 0 1 1 0 0 0 1 1]\n",
      "Text: [b'After the SuperFriends and Scooby Doo left the Saturday morning airwaves in the fall of 1986, I pretty much stopped watching Saturday morning cartoons at that point since those were the only two that kept me tuning in. And since neither the Real Ghostbusters nor the Flintstone Kids seemed very promising to me, I \"retired\" and started sleeping in on Saturday mornings. I only returned to Saturday morning TV in 1988 for that one year only for one and only one animated show. <br /><br />A new animated show of Superman was something I was not going to pass up. I was 17 and in high school at the time, but so what! I loved this show. From what I can recall, this series was a gift to fans I suppose in celebration of Superman\\'s 50th birthday that particular year. It had the theme music and the music style reminiscent of John Williams movie score from the Richard Donner/Christopher Reeve Superman movies. I honestly felt that the animation style Ruby Spears did was reminiscent of the Super Powers Team: Galactic Guardians series by Hanna Barbera a few years before. Sadly, Danny Dark was not back as Superman, but I felt Beau Weaver did a very impressive job as the voice of Superman and his Clark Kent was nerdy like the Chris Reeve version. After hearing him as Reed Richards/Mr. Fantastic on the 90\\'s Fantastic Four, I could still see this version of Superman in my mind. Ginny McSwain as Lois Lane. LOL! What a rhyme. She was a voice director for Hanna Barbera and Ruby Spears and I guess she took it upon herself to do Lois. Memories of the SuperFriends lingered in this series when it came to the voice over cast. Jimmy Olsen is Mark Taylor, who on the SuperFriends was formerly Firestorm. Perry White is none other than former Batman TV writer Stanley Ralph Ross, who on SuperFriends was Gorilla Grodd and Brainiac in the Super Powers shows. And Lex Luthor, now a wise cracking billionaire tycoon is none other than SuperFriends voice alum, Michael Bell, whom I know best as Zan and the Riddler as well as many other characters on many other series. <br /><br />I felt this series was a combination of the movie Superman along with the post crisis John Byrne re envision of Superman, with Lex Luthor as a billionaire tycoon, Jonathan and Martha Kent being alive to see Clark as Superman. The Bruce Timm series and Lois and Clark would also do this. Unfortunately, we never saw Brainiac, Bizarro, Toyman, Metallo, or Darkseid. Other than Luthor, we saw only the Prankster and we did see General Zod. I especially enjoyed that one episode with Wonder Woman, who was voiced over by BJ Ward who played her on the Super Powers Team as well. <br /><br />The episodes were smashing and I also enjoyed Clark\\'s growing and development stories from infancy to childhood to adolescence to an adult moving to Metropolis in the short little segment, Superman\\'s Family Album. <br /><br />The only two things I didn\\'t like. It only lasted one season. And after Wonder Woman\\'s guest spot, I was hoping Batman would turn up voiced over by Adam West (Still thinking about the Super Powers Team episodes I guess). I also hoped for it because on the Prankster episode, the Metropolis baseball team was pitted against the Gotham Goliaths. <br /><br />Every popular Super Hero has one cartoon series that is ultra rare. For SpiderMan, I feel it\\'s the 1981 solo series that aired the same time as Amazing Friends. For the Incredible Hulk, it\\'s the 1982 cartoon. For the Fantastic Four, it\\'s the 1978 series with HERBIE the Robot. For Batman, it\\'s the New Adventures of Batman 1977 by Filmation featuring BatMite. But for Superman, the rarest series is this one. <br /><br />Superman books and documentaries never cover or mention it. This is another series that WB should consider for DVD release. All in all, this 1988 version of Superman is well....Super!!'\n",
      " b\"When I saw this film on FearNet, I thought it would be a scary movie. Apparently, it wasn't. I have no clue how this movie was allowed to be featured on that site. FearNet is a site that shows scary horror movies.<br /><br />The acting is wonderful from all the actors. I hated the story. The story was stupid. The movie starts out with a man with a scroll with a signia stamped onto it. He breaks the seal and certain disasters happen. The water turns to blood, the oceans die out, the moon turns red, etc. <br /><br />The female character was annoying as well. A lot of the stuff she did didn't make sense. Like when she sees a piece of paper with a date on it. Coincidentally, it's the date she's expected to give birth to her baby and she starts freaking out about it and starts researching it and asking religious people what it all means.<br /><br />*Spoiler Alert* <br /><br />The two worst things happened in this movie are the execution of a mentally retarded man who claimed that God told him to murder his parents and the end where Demi Moore dies after giving birth to her baby and transferring her soul into it.<br /><br />Here's what happens. The mentally retarded person gets shot and killed and the apocalypse begins. Demi Moore gets into a hospital in the middle of a massive earthquake and gives birth to her child. She touches her child's head, transferring her soul into the child and then dies. Then, the apocalypse stops.<br /><br />Why does God all of a sudden have a change of heart? He gets furious when the Governor allows the execution of a mentally retarded man then he's all about forgiveness once a lone woman transfers her soul into her baby? <br /><br />*End Spoiler* <br /><br />The movie is pretty stupid. It's another religious end of the world propaganda piece. The acting from Demi Moore and Michael Biehn and everybody else is excellent. That's about all there is.<br /><br />I give this movie 2 stars out of 10. Good acting with a lot of nonsense!\"\n",
      " b'Whoa. In the Twin Cities, we have a station that shows a \"Big Bad Movie\" Monday through Friday. Tonight\\'s nugget was a film with Carrie Fisher called \"She\\'s Back\" about a really annoying woman who ends up getting murdered when thugs break into her house. Bea (Beatrice) comes back to haunt her husband. She wants him to seek revenge on her killers, hence \"she\\'s back\". And she won\\'t let him rest until he does so. She irritates him endlessly... and the viewers, too! This movie is truly one of the worst movies I\\'ve ever seen. Hey, I like bad movies, though (my fave movie is Xanadu). I was really shaking my head throughout the whole film, wondering who thought this would be a good idea for a movie. Bea is just so annoying. The plot is silly; the acting is bad; the story... well, you get my drift. Anyway, if you wanna see a really bad movie - really really bad movie, check this one out. You won\\'t be disappointed. Heh.'\n",
      " b\"Corny! I love it! Corny - just as the TV show was about 40 years ago! Adam and Burt rekindle the same on-screen chemistry that never seems to have left! They re-live old memories, plus the actors that play them from the 1960s show some behind-the-scenes things which are quite interesting to know. 1960s TV was corny escapism for so many of us back then, and this DVD is no exception, if you are familiar with the original TV show. The fight scene with the written Boofs and Bams or whatever is fantastic!! The movie theater scene shows clips of the villains who passed away. At the end Frank Gorshin makes an appearance. He passed away not too long after this DVD was made, I believe, so it is to his great credit that he came back to again play a villain to Adam and Burt, just as he did to Batman & Robin so many years ago. He didn't lose his touch! Thanks to Julie Newmar to re-living a villain role, also. In conclusion I think that this DVD is for great memories, and I wish to thank both Adam and Burt for coming back and recreating these memories for those of us who remember the original-!!! Thanks, Guys!!!\"\n",
      " b'Elvis Presley plays a \"half-breed\" Native American (\"Indian\") who has to defend his reservation from nasty business tycoons. Everyone likes to get drunk, fight, and make children. Fighting, wrestling, and \"punching out\" each other replace the stereotypical hand-raised expression \"How\"?<br /><br />Although he does have make-up on, it\\'s obvious Elvis is healthier than he appeared in prior films; possibly, he was getting ready for his famous \"comeback\". It couldn\\'t have been because this movie\\'s script was anything to get excited about. Joan Blondell trying to seduce Elvis, and Burgess Meredith in \"war paint\", should be ashamed.<br /><br />The best song is \"Stay Away\" (actually, \"Green Sleeves\" with different lyrics). The most embarrassing song is Elvis\\' love song to the bull \"Dominic\". There are some surreal scenes, but it never becomes trippy enough to succeed in that genre; though, \"Stay Away, Joe\" might provide some laughs if you\\'re in the right \"mood\".<br /><br />Otherwise, stay away. <br /><br />** Stay Away, Joe (1968) Peter Tewksbury ~ Elvis Presley, Burgess Meredith, Joan Blondell'\n",
      " b\"Real cool, smart movie. I loved Sheedy's colors, especially the purple car. Alice Drummond is Wise And Wonderful as Stella. I liked Sheedy's reference to how her face had gotten fatter. The roadside dance scene is brilliant. Really liked this one.\"\n",
      " b\"i am 13 and i hated this film its the worst film on earth i totally wasted my time watching it and was disappointed with it cause on the cover and on the back the film it looks pretty good, but i was wrong its bad. but when i saw delta she was totally different and a bad actress and i really didn't know how old the 2 girls was trying to be i was so confused. the film was in some parts confusing and i didn't enjoy it at all but i watched all the film just to see if it was going to get better but it didn't, it was boring,dull and did i say BORING.and i don't think many other people liked it as well as me.boring boring boring\"\n",
      " b'A trooper is on the side of the road making sure every1 is obeying the speed limit (doing his job); he then pulls over a woman who appears she is a mother (there is a child in the back seat); he then is telling her what is wrong and BAM...they get killed. Okay, this is the start of what i personally thought would have been a good movie. When I was watching this movie in the theatre I was with some friends. This was our first night out after the summer so we wanted to go and see a good movie. We all decided to see a suspense/thriller that looked good to everyone in the group...this was one of the biggest mistakes of my life. Not only did I waste $7.oo on a movie ticket, but I had to sit through torture for the brain. This movie started off with mystery and suspense and I seriously thought \"this cant be bad\"...I was so wrong. The whole problem with this movie is that it makes no sense; even if you can get passed the bad acting, the \"not so scary\" storyline, and the over all horrible mess this movie was, you will still be puzzled. It\\'s not because you\\'re not smart enough to understand it, it\\'s because no human with a brain could comprehend what this stupid movie is about. Right now you may be thinking \"Oh man! I have to watch this movie just to see if it\\'s as bad as this person says it is\". GET THAT THOUGHT OUT OF YOUR HEAD RIGHT NOW!!! I\\'m trying to save you the trouble of watching this movie by telling you that it is so bad that there is no point in even considering seeing it. Please people don\\'t make the same mistake i did thinking that this movie has potential...it doesn\\'t. I give this movie 1 out of 10 (if I could give a zero I would), and I do not recommend anyone to ever see this movie, you\\'ll be saving yourself many sleepless nights trying to think w.t.f. that freaking movie is about.'\n",
      " b\"The third Fred MacMurray/Carole Lombard film is a bit more serious than Hands Across the Table and The Princess Comes Across. It's yet another adaption of the play Burlesque which apparently was popular back in the day.<br /><br />The original play Burlesque ran on Broadway in the 1927-1928 season for 372 performances and it's the role that Carole Lombard plays that Barbara Stanwyck originated on Broadway that brought her to Hollywood. A version starred Nancy Carroll in the early days of talkies and later on Betty Grable and Dan Dailey did still another version of it in When My Baby Smiles At Me.<br /><br />In fact I have a vinyl album of a radio version that Al Jolson and Ruby Keeler did for the Lux Radio Theater. That's an interesting work, believe me.<br /><br />Anyway MacMurray and Lombard do fine by the old chestnut, the story is now set in a nightclub where Lombard is a singer and MacMurray is a jazz trumpeter. Note a nice performance by Dorothy Lamour as the Latin vixen who gets between Fred and Carole. Also Anthony Quinn is in one of his earliest films as a wolf on the make for Lombard.<br /><br />Swing High, Swing Low holds up real nice today and I wouldn't be surprised if we see yet another version of Burlesque for the Twenty First Century.\"\n",
      " b\"Rob Roy is and underrated epic of passion and action!SOME MILD SPOILERS WITHIN. Liam Neeson gives a towering performance as Rob Roy MacGregor,one of the best in his career.Jessica Lange is letter-perfect as his wife Mary.They have the most passion and chemistry I've seen in a screen couple.John Hurt gives his best snotty aristocrat performance.Tim Roth portrays one of the great screen villains.His rape of Mary is repugnant and harrowing.He really is a magnificent bastard in this movie.The final duel between Rob and Cunningham is one of the best swordfights ever.Well scripted ans scored,and Michael Caton-Jones direction is flawless. 10 out of 10.\"\n",
      " b'I have to say, when \"Pushing Daisies\" came out I was immediately won out by the fairy-tale like setting of such grimness. The narrator made a cake out of the whole ordeal by making death seem as routine as, well, Ned (Lee Pace) baking pies. And that bringing them back to life was just as routine.<br /><br />The trio of Ned, Emerson Cod (Chi McBride) and Charlotte \"Chuck\" Charles (Anna Friel), plus sometimes-sidekick Olive Snook (Kristin Chenoweth, who made the musical Wicked such a delight) made for some fantastic dialogue and silliness. It definitely deserves the title of a (romantic) comedy/drama.<br /><br />Ned and Chuck made for a shy and not-quite-ready-for-love couple who are still exploring their feelings even though they cannot touch - an obstacle that seems to be truly no obstacle with aids such as gloves, cellophane, and quirky schedules around the apartment. But despite the awkwardness presented as they work their feelings around a strange secret which only a few know, they still manage to show their on screen chemistry in touching scenes like when Ned gives Chuck the beehives. The presence of Olive, though, makes for some break-out-in-song moments in the pie shop and unforeseen complications for the couple.<br /><br />Second season sharply declined, putting a damper on a show that had real potential. On some of the episodes, the plot line was rushed and awkward, making you ask \"what just happened?\" in both the overall dead-person-of-the-week plot and in the overriding plot line. The addition of Chuck\\'s father plus two half-brothers for Ned didn\\'t help, and at least one of the plot lines felt almost recycled (didn\\'t the episode \"Comfort Food\" feel like the episode \"Bitter Sweets\" in the fact that the dead-person-of-the-week died in food?). A few touching moments (the beehives) happened to help advance the relationship between Chuck and Ned, but every time they got close, the writers decided to throw in another monkey wrench rather than let the relation develop (Oliver comes back from the monastery, Chuck\\'s dead father comes back to life and doesn\\'t go back, you get the picture).<br /><br />Shame it didn\\'t work out, but the concept was good and seemed surreal in a good way, just enough Pleasantvillesque color/happy-smiley going on and implausible scenarios to remind you that it\\'s not \"Dead Like Me.\" Then again, it\\'s in \"Pushing Daisies time,\" according to Creator Bryan Fuller, so it makes it plausible again.<br /><br />It should have lasted longer, but it\\'s merely wistful thinking at this point. Kudos to whatever new show attempts to replace this short-lived gem.'\n",
      " b'This is awesomely bad and awesomely embarassing for a Canadian. We grow good wine. Our writers and poets are among the world\\'s best. The National Ballet is rated among the top five companies in the world. BUT WE MAKE BLOODY AWFUL MOVIES! This one isn\\'t especially bad. It\\'s especially typical and typically bad, shot in two bit hotels and public parks with thin direction, high school level acting and \"gee whiz...lets see what this button on the camera does??\" photography. If Michael Moriarity was so intent on doing a Jack Nicholson impersonation, couldn\\'t he at least have done a GOOD Jack Nicholson impersonation? And if the movie was shot in Vancouver, truly one of the loveliest cities on earth and also a centre of yacht building (part of the \"plot\") why in God\\'s name do we let that endemic Canadian inferiority complex dictate that it be disguised as Seattle??? Not only am I mad about this film, I\\'m embarassed and more than a little ashamed. The Australians turn out some splendid stuff. We produce pretentious second rate piffle. Gawd!!!!!'\n",
      " b'Mann photographs the Alberta Rocky Mountains in a superb fashion, and Jimmy Stewart and Walter Brennan give enjoyable performances as they always seem to do. <br /><br />But come on Hollywood - a Mountie telling the people of Dawson City, Yukon to elect themselves a marshal (yes a marshal!) and to enforce the law themselves, then gunfighters battling it out on the streets for control of the town? <br /><br />Nothing even remotely resembling that happened on the Canadian side of the border during the Klondike gold rush. Mr. Mann and company appear to have mistaken Dawson City for Deadwood, the Canadian North for the American Wild West.<br /><br />Canadian viewers be prepared for a Reefer Madness type of enjoyable howl with this ludicrous plot, or, to shake your head in disgust.'\n",
      " b\"One woman, by herself in a house for 45-minutes of screen time, doesn't sound like a formula to hold you on the edge-of-your-seat... but FUTURE SHOCK is truly as thrilling as they come! Writer / star Vivian Schilling takes on those little fears we all suppress, and enlarges them to terrifying proportions, so don't watch this film alone!\"\n",
      " b'This movie (with the alternate title \"Martial Law 3\" for some reason) introduced me to Jeff Wincott for the first time. And it was a great introduction. Although I had never heard of him before, he seemed to be an excellent fighter. The action scenes in this movie are GREAT! There are lots of them too, by the way. The recruit fight at the Peacekeepers HQ is especially good. There\\'s just something about one single guy beating the crap out of a bunch of people that\\'s really fun. And for the rest of the cast: Brigitte Nielsen was a good choice for the villain. Roles like this fits her (but others don\\'t). Matthias Hues also did a good job, as always. He\\'s a great fighter and macho-like character, and was a good rival for Wincott in this movie.'\n",
      " b\"On the face of it, this should be a great film, a great cast, a plot with many possibilities and one of Hollywood's finest behind the camera for the first time.<br /><br />However, its clear why it was another 8 years before spacey decided to try directing a movie again. This movie fails on so many levels. In a film where there is not much action and most of the scenes are shot in a couple of locations, it is imperative that suspense and continuity are provided by the director. Not so here, the great cast is horribly under-used, none more so than the great, late John Spencer, the plot is so run of the mill and nothing you haven't seen in a hundred other TV movies. There is so little character development you end up not caring for any of the protagonists. At least we know spacey has a lot of mates and clout in Hollywood studios to get away with a poor flick like this\"\n",
      " b'It is rare that one comes across a movie as flawless as this. It\\'s truly one of the best acted, most tightly structured films I\\'ve ever seen. Every line of dialogue can be interpreted in several ways, relating to each of the three main characters differently. The film weaves an intrinsic web of motivations and double crosses that snare you and refuse to let go. Add to this that the slow-burning romance between Kevin and Faye is as moving as anything that\\'s ever been committed to celluloid and you have the ingredients for a perfect film. It exposes the romance of movies such as \"Titanic\" as the trite cliches they are. If you\\'re looking for a movie to watch while you fold laundry, this isn\\'t it. You have to commit yourself to this film. You can\\'t have a conversation while running in and out of the room. This movie demands your attention. Treat it with the respect you deserve and you\\'ll get a lot out of it. Unless you think \"Titanic\" is the greatest film ever.'\n",
      " b\"Okay, if you've seen The Ring, you've basically seen The Grudge. It's trying to be scary by just having freaky camera work and loud sounds, but it fails miserably. The plot, if you can call it that, is weak and rather full of holes, for instance, how would the care center have known that Yoko didn't show up for work when the people who lived in the house were not there? And it's not really clear what Bill Pullman's character had to do with anything. He just kind of came out of nowhere to advance the plot. It didn't make a lot of sense what happened to the original family. Who was hanging in the room, the little boy or the dad? And was Yoko alive or dead when the care center guy found her? There were too many unanswered questions and I was too bored to think about it more.\"\n",
      " b'awful, just awful! my old room mate used to watch this junk and it drove me crazy. the book is one of my favorites and its a shame that some people will never know what it is really like because their first impressions are from dribble like this. they changed so much it is hardly recognisable. which baffles me since the book reads like a soap opera anyway, providing enough fodder for modern day entertainment. it\\'s like one of those Lifetime movies that say \"based on a true story\" but are completely fictional. there is none of the emotion or depth of the book, just mindless melodrama. if you are a high school student looking for a way to get out of reading, i suggest you try another version.'\n",
      " b\"Girlfight is like your grandmother's cooking: same old recipe you've tried a million times before, yet somehow transformed into something fresh and new. Try and explain the story to people who haven't seen it before: a young women from the wrong side of the tracks attempts to improve her situation by taking up boxing whilst dealing with a bitter, obstructive father and her growing attraction to a male rival. Watch them roll their eyes at the string of clich\\xc3\\xa9s, and they're right: it *is* clich\\xc3\\xa9d. Yet I was hypnotized by how well this film works, due to the frequently superb acting and dialogue, and sensitive direction that makes it 'new'. I avoided this at the cinema because it looked like complete crap but don't make the same mistake I did. Definiately worth a look.\"\n",
      " b'Two years ago I watched \"The Matador\" in cinema and I loved everything about this movie. Obviously, I was totally under impression of Pierce Brosan\\'s magnificent role. Yesterday, I caught this movie again on TV so I looked at it a bit deeper. Now, I can say with certain that this movie isn\\'t that special but you just gotta\\' love it because of one man. <br /><br />Brosnan lifts its grade up in my opinion with amazing performance of Julian Noble, tired hit-man who has no friends. Soon Julian meets Danny Wright (Greg Kinnear) in Mexico City, man who\\'s got bad luck: his son died in accident, his job isn\\'t going that well and he\\'s not sure that he can keep his wife Bean (Hope Davis).<br /><br />I always liked movies like this; crime movie with big touch of humor. Mostly that humor comes from Brosnan as he tells jokes about dwarfs with big d.... or one of my favorite lines in this movie: \"I look like a Bangkok hooker on a Sunday morning, after the navy\\'s left town.\" Brosnan says it with his charm while he\\'s drinking his margarita as usually. I also like Greg \\'typical American face\\' Kinnear in the role of loser that is very lively made because there are plenty of people like Danny Wright.<br /><br />So I recommend you to watch quite possibly the best role of Brosnan ever. He\\'ll make you smile and admire him at the same time. Great Brosnan in not equally great movie.'\n",
      " b\"I am surprised that everyone (even the critics) seems to think this was a good movie. It was the most clich\\xc3\\xa9d thriller ever made that I have seen. We have the 'bad guy' who wants to force the 'good guy' (or girls in this case) to do something or face the consequence. The 'good girl' in this movie must use her smarts and skills to defeat the 'bad guy' and save the day and her loved ones. Using charisma, bravery, and even luck to save the day. <br /><br />Where to begin? Well, a young woman by the name of Lisa Reisert meets a young man by the name of Jackson Rippner (nice name) at an airport. One coincidence leads to another and soon it seems as if fate is bringing these two together. Sharing drinks, sitting next to each other, seemingly getting along in every way... Is there more to this strangeness? Could these two be meant for each other? Does 'fate' have a reason for their strange and random encounter? <br /><br />Well, as it turns out, unfortunately yes. Jackson needs to Lisa to help him assassinate the Director of Homeland Security by moving him from one room to another so that his men can launch an attack on him. Oh, if she doesn't do this then her father is dead. Though we never learn the exact reasons why and who is really behind this madness, Jackson more then explains how this is going to happen and why its in Lisa's best interest to help him.<br /><br />Of course, Lisa defeats his evil plans with her smarts and in the process stabs him in the neck, makes him trip over chairs, and hitting him with a field hockey stick. Oh, and before that, she leads him on wild chase through Miami airport where she gets passed post 9 11 security and steals a car that she later uses to run over the man who was ordered to kill her father. <br /><br />Yeah, right.<br /><br />First of all, I find it strange that a man like Jackson who can get his hands on high tech weaponry needs the help of a hotel manager. Couldn't he just sneak a bomb into the building? Wouldn't that make it safer for him and his team by leaving out any third parties? And why do characters like Jackson also explain everything they are going to do to someone they are threatening? Doesn't that make it easier to stop them by the same people? <br /><br />The actors did their best considering the movie they were given. Racheal McAdams and Cillian Murphy are still actors to look out for. Also, I believe that Jayma Mays (who played the 'loveable' Cynthia) will be someone we will see more of. It's just too bad they all were stuck with this.<br /><br />2 out of 10\"\n",
      " b'I ran across this several years ago while channel surfing on a Sunday afternoon. Though it was obviously a cheesy TV movie from the 70s, the direction and score were well done enough that it grabbed my attention, and indeed I was hooked and had to watch it through to the end. I recently got the opportunity to buy a foreign DVD of this film (oops, didn\\'t notice a domestic one had finally come out a couple months prior), and was very pleased to be able to watch it again (and in its entirety).<br /><br />I don\\'t wholly understand the phenomenon, but somehow the 70s seem to have a lock on horror movies that are actually scary. The decades prior to the 70s produced some beautifully shot films and the bulk of our enduring horror icons, but are they actually scary? No, not very. Likewise in the years since the 70s we\\'ve gotten horror movies that are cooler, more exciting, have much better production values and sophisticated special effects, are more fun, funnier, have effective \"jump\" moments, and some very creative uses of gore, but again... they aren\\'t really scary! There\\'s just something about the atmosphere of the 70s horror films. The grainy film quality. The spookily dark scenes unilluminated by vast high-tech lighting rigs. The \"edge of dreamland\" muted quality of the dialogue and the weird and stridently EQ\\'d scores. The odd sense of unease and ugliness permeating everything. Everything that works to undermine most movies of the 70s, in the case of horror, works in its favor.<br /><br />Specifically, in this film, the quiet, intense shots of the devil dog staring people down is fairly unnerving. So much more effective than if they had gone the more obvious route of having the dog be growling, slavering, and overtly hostile (\"Cujo\"?). The filmmakers wisely save that for when the dog appears in its full-on supernatural form. The effects when that occurs, while unsophisticated by today\\'s standards, literally gave me chills. The bizarre, vaguely-defined, \"I\\'m not quite sure what I\\'m looking at\" look intuitively strikes me as more like how a real supernatural vision would be, rather than the hyper-real, crystal clear optical printer / digital compositor confections of latter-day horror films.<br /><br />While the human characters in this film are not as satisfyingly rendered as their nemesis or the world they inhabit, the actors all do a decent job. The pairing of the brother and sister from the \"Witch Mountain\" movies as, yes, brother and sister, is a rather cheesy bit of stunt casting, but they do fine. Yvette Mimieux always manages to be entertaining if unspectacular. Richard Crenna earns more and more empathy from the audience as the film progresses. His self-doubt as he wonders whether his family\\'s alienness is truly due to a supernatural plot or whether he\\'s merely succumbing to paranoid schizophrenia is pretty well handled, though his thought that getting a routine physical may provide an explanation for what he\\'s been experiencing is absurd in its na\\xc3\\xafvet\\xc3\\xa9.<br /><br />The movie\\'s The-End-Question-Mark type ending is one of the only ones I\\'ve seen that doesn\\'t feel like a cheap gimmick, and actually made me think about the choices these characters would be faced with next and what they\\'d be likely to do and how they\\'d feel about it.<br /><br />Detractors of this film may say it\\'s merely a feature-length vehicle for some neato glowing retina shots, but hey, you could say the same thing about \"Blade Runner\". :-)'\n",
      " b\"Vampires Vs. Zombies wasn't the original title. It was actually... <br /><br />Nasty Lesbian Semi-Vampires and Two Zombies Getting Hit by Cars: Special Guest appearances by Bob the Lesbian Gypsie-Witch and her dog, Random Woman with special powers and the Catholic School Girl Short Skirt Zombie Choir. <br /><br />Also on the Box: Warning: No Plot- only the writer and director will understand the end, or anything else in this movie.<br /><br />Seriously though, I love bad movies. I love Vampires. I love Zombies. Hell, I even enjoy the lesbians. This movie combined all three with a vague and confusing (or non-existent) plot, horrendous (I mean REALLY BAD) dialogue, and random STUFF and PEOPLE that have nothing to do with anything (or do they... I didn't know what in the world was going on). Oh, and I can't forget the green oatmeal 'Zombies' in latex gloves (yes, the film makers were so cheap they couldn't even cover their Zombies hands in oatmeal and paint). Any way, the result was this excruciatingly BAD film, if you could even call it that. <br /><br />Was the end supposed to not make sense? The Vampire was really Nurse and the other girl was really a mental patient? Where were the Vampires Vs. Zombies? Hell, where were the Vampires at all... you really couldn't call any of the girls vampires. Whatever. <br /><br />Don't ever rent or buy this movie. If you are REALLY curious... okay, I'll understand. Seriously, even lovers of BAD movies won't be able to stand this one. It should be number 1 on the bottom 100.\"\n",
      " b'The movie was awful. The theater was dead with silence \\'cause everyone was embarrassed to be in there watching such trash. I think someone gave Jet Li a lobotomy and made him perform a script with dialogue written by a five year old. The martial arts are \\'ok\\', but when put next to the Jackie Chan movies and \"The Matrix\" you\\'re better off seeing one of those.'\n",
      " b'Marvelous cult film from 1979 in which the students of Vince Lombardi High School are confronted with a new, dictatorial principal named Miss Togar (Mary Woronov). Togar is a music hater and blames the musical tastes of the students for their transgressions. Leading the charge against her is fun-loving Riff Randell (P.J. Soles), the #1 Ramones fan who, more than anything, wants the rock group to record her songs.<br /><br />Now *this* is an impossible movie to resist. First and foremost, the soundtrack is incredible, with songs by such artists as Alice Cooper and the Velvet Underground in addition to the infectious non-stop assortment of Ramones songs. \"Teenage Lobotomy\", \"Sheena is a Punk Rocker\", and \"Blitzkrieg Bop\" are just a few of them. Next, the cast truly gives it their all, with Soles an ideal choice for the role of Riff; she is a true delight. Vincent Van Patten and Dey Young are earnest as Tom and Kate, Woronov is well cast against type as the snooty and disdainful Togar, Clint Howard has one of his best ever parts as washroom-occupying entrepreneur Eaglebauer, and New World regulars such as Dick Miller, Paul Bartel (particularly fun as music teacher Mr. McGree) and The Real Don Steele are fun as always. And, of course, it\\'s a treat to see The Ramones playing themselves.<br /><br />The movie has true spirit. The energy level is high, with co-story author and director Allan Arkush bringing a great deal of flair to the proceedings. There\\'s also a great sense of humor. The paper airplane gag is a superb example of this. This extends right to the \"wipe\" style of scene transitions. There are even hilarious giant mice created by future makeup effects notable Rob Bottin, in one of his earliest gigs.<br /><br />About as good as an authority-defying, defend-one\\'s-right-to-party film can get. \"Rock \\'n\\' Roll High School\" is, quite simply, a wonderful cult film.<br /><br />8/10'\n",
      " b\"It is noteworthy that mine is only the third review of this film, whereas `Patton- Lust for Glory', producer Frank McCarthy's earlier biography of a controversial American general from the Second World War, has to date attracted nearly a hundred comments. Like a previous reviewer, I am intrigued by why one film should have received so much more attention than the other.<br /><br />One difference between the two films is that `Patton' is more focused, concentrating on a relatively short period at and immediately after the end of the Second World War, whereas `MacArthur' covers not only this war but also its subject's role in the Korean war, as well as his period as American governor of occupied Japan during the interlude.<br /><br />The main difference, however, lies in the way the two leaders are played. Gregory Peck dominates this film even more than George C. Scott dominated `Patton'. Whereas Scott had another major star, Karl Malden, playing opposite him as General Bradley, none of the other actors in `MacArthur' are household names, at least for their film work. Scott, of course, portrayed Patton as aggressive and fiery-tempered, a man who at times was at war with the rest of the human race, not just with the enemy. I suspect that in real life General MacArthur was as volcanic an individual as Patton, but that is not how he appears in this film. Peck's MacArthur is of a more reflective, thoughtful bent, comparable to the liberal intellectuals he played in some of his other films. At times, he even seems to be a man of the political left. Much of his speech on the occasion of the Japanese surrender in 1945 could have been written by a paid-up member of CND, and his policies for reforming Japanese society during the American occupation have a semi-socialist air to them. In an attempt to show something of MacArthur's gift for inspiring leadership, Peck makes him a fine speaker, but his speeches always seem to owe more to the studied tricks of the practised rhetorician than to any fire in the heart. It is as if Atticus Finch from `To Kill a Mockingbird' had put on a general's uniform.<br /><br />Whereas Scott attempted a `warts and all' portrait of Patton, the criticism has been made that `MacArthur' attempts to gloss over some of its subject's less attractive qualities. I think that this criticism is a fair one, particularly as far as the Korean War is concerned. The film gives the impression that MacArthur was a brilliant general who dared stand up to interfering, militarily ignorant politicians who did not know how to fight the war and was sacked for his pains when victory was within his grasp. Many historians, of course, feel that Truman was forced to sack MacArthur because the latter's conduct was becoming a risk to world peace, and had no choice but to accept a stalemate because Stalin would not have allowed his Chinese allies to be humiliated. Even during the Korean scenes, Peck's MacArthur comes across as more idealistic than his real-life original probably was; we see little of his rashness and naivety about political matters. (Truman 's remark `he knows as much about politics as a pig knows about Sunday' was said about Eisenhower, but it could equally well have been applied to MacArthur's approach to international diplomacy). Perhaps the film's attempt to paint out some of MacArthur's warts reflects the period in which it was made. The late seventies, after the twin traumas of Vietnam and Watergate, was a difficult time for America, and a public looking for reassurance might have welcomed a reassuringly heroic depiction of a military figure from the previous generation. Another criticism I would make of the film is that it falls between two stools. If it was intended to be a full biography of MacArthur, something should have been shown of his early life, which is not covered at all. (The first we see of the general is when he is leading the American resistance to the Japanese invasion of the Philippines). One theme that runs throughout the film is the influence of General MacArthur's father, himself a military hero. I would have liked to see what sort of man Arthur MacArthur was, and just why his son considered him to be such a hero and role model. Another interesting way of making the film would have been to concentrate on Korea and on MacArthur's clash with Truman, with equal prominence given to the two men and with actors of similar stature playing them. The way in which the film actually was made seemed to me to be less interesting than either of these alternative approaches.<br /><br />It would be wrong, however, to give the impression that I disliked the film altogether. Although I may not have agreed with Peck's interpretation of the main role, there is no denying that he played it with his normal professionalism and seriousness. The film as a whole is a good example of a solid, workmanlike biopic, thoughtful and informative. It is a good film, but one that could have been a better one. 7/10.<br /><br />On a pedantic note, the map which MacArthur is shown using during the Korean War shows the DMZ, the boundary between the two Korean states that did not come into existence until after the war. (The pre-war boundary was the 38th parallel). Also, I think that MacArthur was referring to the `tocsin' of war. War may be toxic, but it is difficult to listen with thirsty ear for a toxin.\"\n",
      " b\"I like movies about UFOs, which is why I recently decided to rewatch EYES BEHIND THE STARS after seeing it when I was a kid back in the late 1970s. And now I'm compelled to write a review about it because I'm afraid I'll start forgetting everything about it FAST. You see, even though EBTS ain't bad, it's VERY dull and nondescript. The story is sorta interesting but flat. The actors are good but their roles are boring and a little confusing. The FX are terribly amateurish but I can overlook something like that if the movie is compelling, which, unfortunately, this one ain't.<br /><br />Also, there's very little violence and there's no nudity whatsoever, which makes this 1970s Italian sci-fi opus a TRUE oddity, because if there's one thing that distinguishes Italian genre movies made in the 1970s from genre movies of other countries made in the same decade, it's the astonishing amount of violence and sex to be found in them. Oddly enough, because of the almost complete lack of exploitive elements, EBTS stands out from the rest of the pact. I don't know if this can be seen as a compliment though. Personally, I can enjoy a movie without sex and violence but I think EBTS NEEDED more violence and some sex here and there to spice it up because it is so deadly dull and dry. And the special effects aren't that special.<br /><br />The story itself is actually interesting. It's a combo of THE X-FILES and Antonioni's BLOWUP: a photographer accidentally captures aliens on film during a fashion shoot in the country. The aliens know they were captured on film and they proceed to kidnap the photographer and a model, subsequently destroying any evidence of their presence on earth. The problem starts when the model meets a man at the recently abducted photographer's apartment (this taking place just before she's to be abducted herself). The man takes some of the negatives and leaves, with the aliens having no knowledge of the missing negatives. The whole story is about this man wanting to know more about the aliens and a secret spy group who want to get a hold of the negatives. The majority of the movie centers around boring political intrigue, in the spy vs spy variety. The UFO element of the story is almost unimportant and could have easily been replaced by any cold war McGuffin. But as dull as EYES BEHIND THE STARS is, it does resemble THE X-FILES a LOT! I wonder if Chris Carter saw this movie. Anyway, the best thing in EBTS are the POV shots, which are creepy and effective. But the rest is almost completely forgettable, including the goofy looking aliens.<br /><br />Even though I've been mostly negative about this film, I sorta cherish it nonetheless. I still remember the effective ad campaign which scared me when I saw it as a kid. And I own the video. The film could have been so much more if it had been done properly. Oh well...\"\n",
      " b'\"National Lampoon Goes to the Movies\" is the worst movie ever made, surpassing even the witless \"Plan 9 from Outer Space.\" At least that movie was just inept; the Lampoon film, on the other hand, is both inept and mean. Once upon a time, movies used to respect their audiences\\' intelligence. This one, however, holds a fetid, rotting carcass up to our faces -- and then tries to rub our noses in it.<br /><br />Another reviewer on this site wrote that the only good parts of the movie are the nude scenes; and I agree, Misses Ganzel and Dusenberry do flash a bit of flesh, and very nice flesh it is. But the directors seem not to realize that even T&A needs a good story to surround it. There\\'s none of that here.<br /><br />Perversely, the film makers save the worst for last. The third of the three segments is the ugliest of the trio. In this vignette, Robby Benson plays an eager-beaver young police officer reporting for duty on his first day on the job. He is paired with a weary, cynical oldtimer played by Richard Widmark. For just a moment, we are given hope that this film will end triumphantly. Surely, we think, the youngster\\'s spunky attitude will rub off on the cynic and change him for the better.<br /><br />Forlorn hope! Instead, the cynic wins the day -- and the youngster\\'s spark is doused forever. \"National Lampoon Goes to the Movies\" and heads right for the toilet, asking us to follow it down the drain. Nominally, this is a comedy. But where\\'s the humor?'\n",
      " b\"Okay so i found out about this movie and I watched the preview read almost all the reviews and was having a hard time debating whether I should watch it or not. Before i even watched the movie i was emotionally weird on it. i was so unsure if i was going to watch this and be disturbed for like a long time. So i choose to risk it and watched it and heres what i thought: The beginning started off fine for me. It seemed to be heading in a decent direction. Got past the rape scene and i couldn't figure why people were so disturbed or bored by the movie. Don't get me wrong the rape scene was just as sad and scary but it didn't really bother me to a dramatic point. Then as the middle came in i understood the boring stuff that was going on. There was like 5 minutes shots of nothing but people walking around saying or showing nothing! its one thing to have a shot where a person is showing some kind of emotion but this movie didn't have that. It had about 3 of these pointless scenes, where you see the main character Maya kind of get out of control but it didn't show it right making me want to fast forward. Then when she engaged in the hardcore partying it wasn't so boring but still a little dull. Oh and as a note Rosario Dawson still did a great job. Okay moving on so finally after an hour of pointlessness to the middle the revenge comes to Maya's attention. Thats where it got disturbing. I didn't feel bad for him or nothing he got what he deserved but the whole scene was really disturbing and i just felt all eck after it. I cant really tell you whether or not to watch this movie because its so...i don't know i cant find a word to sum it up. But if you choose to watch it just don't be unsuprised.\"\n",
      " b'I am a kung fu fan, but not a Woo fan. I have no interest in gangster movies filled with over-the-top gun-play. Now, martial arts; *that\\'s* beautiful! And John Woo surprised me here by producing a highly entertaining kung fu movie, which almost has *too much* fighting, if such a thing is possible! This is good stuff.<br /><br />Many of the fight scenes are very good (and some of them are less good), and the main characters are amusing and likable. The bad guys are a bit too unbelievably evil, but entertaining none the less. You gotta see the Sleeping Wizard!! He can only fight when he\\'s asleep - it\\'s hysterical!<br /><br />Upon repeated viewings, however, Last Hurrah For Chivalry can tend to get a little boring and long-winded, also especially because many of the fight scenes are actually not that good. Hence, I rate it \"only\" a 7 out of 10. But it really is almost an \"8\".<br /><br />All in all one of the better kung fu movies, made smack-dab in the heart of kung fu cinema\\'s prime. All the really good kung fu movies are from the mid- to late 1970ies, with some notable exceptions from the late \\'60ies and early \\'70ies (and early \\'80ies, to be fair).'\n",
      " b'New York, 1953. One hot night, four famous iconic figures will come together. The professor (Albert Einstein) has come to NY to give a speech, which he has, the senator (Joesph MacCarthy) on his back. Later that night his gets a surprise visitor; a famous actress (Marilyn Monroe). Who actually wants to discuss the theories of Relativity. Soon her ball-playing husband (Joe DiMaggio) turns up at the hotel room, begging to work things out for their crumbling relationship. Flashbacks of childhood, important events, perceived consequences of their actions creep in to show how these individuals cope with despair and a hidden fear waiting to break out.<br /><br />Now that\\'s one-of-a-kind! Adapted off a stage-play by Terry Johnson (who would also script the screenplay for the film), \"Insignificance\" is an odd, quirky, seductive and downright curious fictional pop-culture gimmick in the hands of director Nicolas Roeg. This inspired and cerebral experimental effort might be rooted in its stage-play origins, because it does feel theatrical and most of the action occurs in a hotel backdrop and one main suite. The cramp look only enhanced the moody and smoky atmosphere of New York to great effect. However these limitations can\\'t contain the fruitful and daring ideas that Roeg manages to randomly storm up visually and through the meaningful material. The way he reflects on the characters\\' (who are suggestively famous figures, without the need of naming of them) philosophical journeys and interpretations of their notions is stimulating in a spiritual sense, with the memories gelling into the present and visions showing their fears of realisations, which depending on what you\\'re seeing is either beautiful, or hauntingly implemented. There\\'s plenty of food for thought and hints within the verbosely innovative (if sometimes awkward) script, with the main focus concerning the present situation, but the flashbacks gives us the personal make-up (sex, power, enlightenment and glory) of what makes them who they are and how much of a burden it can be in there already demanding lives. Sure the story might not lead to anything by the end, and it can feel disjointed, but the dreamy vibe and intelligent arrangement irons out those folds and makes sure it never turns giddy. Peter Hannan\\'s sensually fluid photography and Stanley Myers\\' titillatingly oozing blues soundtrack fit in snugly with Roeg\\'s stylistically subdue and established style of directing. He makes it look like he\\'s working with something big and large-scale, but otherwise that\\'s not the case and a small little universe is created. The vintage costumes and locations of the period all come off fittingly enough. What made the film for me had to be the impressive acting it boasted from the main four. Theresa Russell\\'s perky, drop dead gorgeous appeal of the sexy pin-up actress is a growing portrayal that definitely held the film together along with an genuinely excellent and endearing performance by Michael Emil as the professor. Tony Curtis marvellously plays it up as witch-hunting senator and Gary Busey is suitably good in the stoically gravel manner as the ballplayer. Showing up in minor, but amusing support roles happen to be Will Sampson and Patrick Kilpatrick.<br /><br />A memorably striking, fresh and tour de force meditation piece of metaphysics linked together by four different extremes. Some might find it pretentiously estrange and too talky, but this one had me wrapped up in its own little unique world to worry too much about its shortcomings.']\n"
     ]
    }
   ],
   "source": [
    "for text_batch, label_batch in train_ds.take(1):\n",
    "    print(\"Targets:\", label_batch.numpy())\n",
    "    print(\"Text:\", text_batch.numpy())"
   ]
  },
  {
   "cell_type": "markdown",
   "metadata": {},
   "source": [
    "Print the first text in the first batch:"
   ]
  },
  {
   "cell_type": "code",
   "execution_count": 64,
   "metadata": {},
   "outputs": [
    {
     "name": "stdout",
     "output_type": "stream",
     "text": [
      "First text in the first batch: awful, just awful! my old room mate used to watch this junk and it drove me crazy. the book is one of my favorites and its a shame that some people will never know what it is really like because their first impressions are from dribble like this. they changed so much it is hardly recognisable. which baffles me since the book reads like a soap opera anyway, providing enough fodder for modern day entertainment. it's like one of those Lifetime movies that say \"based on a true story\" but are completely fictional. there is none of the emotion or depth of the book, just mindless melodrama. if you are a high school student looking for a way to get out of reading, i suggest you try another version.\n"
     ]
    }
   ],
   "source": [
    "for text_batch, label_batch in train_ds.take(1):\n",
    "    print(f\"First text in the first batch: {text_batch.numpy()[0].decode('utf-8')}\")"
   ]
  },
  {
   "cell_type": "markdown",
   "metadata": {},
   "source": [
    "Text vektorisering, görs utanför lagret"
   ]
  },
  {
   "cell_type": "code",
   "execution_count": 65,
   "metadata": {},
   "outputs": [],
   "source": [
    "from keras import layers\n",
    "text_vectorization = layers.TextVectorization(max_tokens=20000, output_mode=\"multi_hot\")\n",
    "text_only_train_ds = train_ds.map(lambda x, y: x)\n",
    "text_vectorization.adapt(text_only_train_ds) # adapt is similar to fit, but it only uses the first batch\n",
    "\n",
    "binary_1gram_train_ds = train_ds.map(lambda x, y: (text_vectorization(x), y))\n",
    "binary_1gram_val_ds = val_ds.map(lambda x, y: (text_vectorization(x), y))\n",
    "binary_1gram_test_ds = test_ds.map(lambda x, y: (text_vectorization(x), y))\n"
   ]
  },
  {
   "cell_type": "markdown",
   "metadata": {},
   "source": [
    "Texten är nu vektoriserad, samt targets är också binary."
   ]
  },
  {
   "cell_type": "code",
   "execution_count": 91,
   "metadata": {},
   "outputs": [
    {
     "name": "stdout",
     "output_type": "stream",
     "text": [
      "Targets: [0 0 1 1 0 0 1 1 0 0 1 1 0 0 0 0 0 0 1 1 1 0 0 0 0 0 0 1 1 0 0 0]\n",
      "Text: [[1 1 1 ... 0 0 0]\n",
      " [1 1 1 ... 0 0 0]\n",
      " [1 1 1 ... 0 0 0]\n",
      " ...\n",
      " [1 1 1 ... 0 0 0]\n",
      " [1 1 1 ... 0 0 0]\n",
      " [1 1 1 ... 0 0 0]]\n"
     ]
    }
   ],
   "source": [
    "for text_batch, label_batch in binary_1gram_train_ds.take(1):\n",
    "    print(\"Targets:\", label_batch.numpy())\n",
    "    print(\"Text:\", text_batch.numpy())"
   ]
  },
  {
   "cell_type": "code",
   "execution_count": 74,
   "metadata": {},
   "outputs": [
    {
     "name": "stdout",
     "output_type": "stream",
     "text": [
      "First vectorized text in the first batch: [1 1 0 ... 0 0 0]\n",
      "Length of the first vectorized text: 20000\n"
     ]
    }
   ],
   "source": [
    "for text_batch, label_batch in train_ds.take(1):\n",
    "    vectorized_text = text_vectorization(text_batch)\n",
    "    print(f\"First vectorized text in the first batch: {vectorized_text.numpy()[0]}\")\n",
    "    print(f\"Length of the first vectorized text: {len(vectorized_text.numpy()[0])}\")"
   ]
  },
  {
   "cell_type": "code",
   "execution_count": 75,
   "metadata": {},
   "outputs": [],
   "source": [
    "def get_model(max_tokens=20000, hidden_dim=16):\n",
    "    inputs = keras.Input(shape=(max_tokens,))\n",
    "    x = layers.Dense(hidden_dim, activation=\"relu\")(inputs)\n",
    "    x = layers.Dropout(0.5)(x)\n",
    "    outputs = layers.Dense(1, activation=\"sigmoid\")(x)\n",
    "    model = keras.Model(inputs, outputs)\n",
    "    model.compile(optimizer=\"rmsprop\", loss=\"binary_crossentropy\", metrics=[\"accuracy\"])\n",
    "    return model"
   ]
  },
  {
   "cell_type": "code",
   "execution_count": 76,
   "metadata": {},
   "outputs": [
    {
     "data": {
      "text/html": [
       "<pre style=\"white-space:pre;overflow-x:auto;line-height:normal;font-family:Menlo,'DejaVu Sans Mono',consolas,'Courier New',monospace\"><span style=\"font-weight: bold\">Model: \"functional_1\"</span>\n",
       "</pre>\n"
      ],
      "text/plain": [
       "\u001b[1mModel: \"functional_1\"\u001b[0m\n"
      ]
     },
     "metadata": {},
     "output_type": "display_data"
    },
    {
     "data": {
      "text/html": [
       "<pre style=\"white-space:pre;overflow-x:auto;line-height:normal;font-family:Menlo,'DejaVu Sans Mono',consolas,'Courier New',monospace\">┏━━━━━━━━━━━━━━━━━━━━━━━━━━━━━━━━━┳━━━━━━━━━━━━━━━━━━━━━━━━┳━━━━━━━━━━━━━━━┓\n",
       "┃<span style=\"font-weight: bold\"> Layer (type)                    </span>┃<span style=\"font-weight: bold\"> Output Shape           </span>┃<span style=\"font-weight: bold\">       Param # </span>┃\n",
       "┡━━━━━━━━━━━━━━━━━━━━━━━━━━━━━━━━━╇━━━━━━━━━━━━━━━━━━━━━━━━╇━━━━━━━━━━━━━━━┩\n",
       "│ input_layer_1 (<span style=\"color: #0087ff; text-decoration-color: #0087ff\">InputLayer</span>)      │ (<span style=\"color: #00d7ff; text-decoration-color: #00d7ff\">None</span>, <span style=\"color: #00af00; text-decoration-color: #00af00\">20000</span>)          │             <span style=\"color: #00af00; text-decoration-color: #00af00\">0</span> │\n",
       "├─────────────────────────────────┼────────────────────────┼───────────────┤\n",
       "│ dense_2 (<span style=\"color: #0087ff; text-decoration-color: #0087ff\">Dense</span>)                 │ (<span style=\"color: #00d7ff; text-decoration-color: #00d7ff\">None</span>, <span style=\"color: #00af00; text-decoration-color: #00af00\">16</span>)             │       <span style=\"color: #00af00; text-decoration-color: #00af00\">320,016</span> │\n",
       "├─────────────────────────────────┼────────────────────────┼───────────────┤\n",
       "│ dropout_1 (<span style=\"color: #0087ff; text-decoration-color: #0087ff\">Dropout</span>)             │ (<span style=\"color: #00d7ff; text-decoration-color: #00d7ff\">None</span>, <span style=\"color: #00af00; text-decoration-color: #00af00\">16</span>)             │             <span style=\"color: #00af00; text-decoration-color: #00af00\">0</span> │\n",
       "├─────────────────────────────────┼────────────────────────┼───────────────┤\n",
       "│ dense_3 (<span style=\"color: #0087ff; text-decoration-color: #0087ff\">Dense</span>)                 │ (<span style=\"color: #00d7ff; text-decoration-color: #00d7ff\">None</span>, <span style=\"color: #00af00; text-decoration-color: #00af00\">1</span>)              │            <span style=\"color: #00af00; text-decoration-color: #00af00\">17</span> │\n",
       "└─────────────────────────────────┴────────────────────────┴───────────────┘\n",
       "</pre>\n"
      ],
      "text/plain": [
       "┏━━━━━━━━━━━━━━━━━━━━━━━━━━━━━━━━━┳━━━━━━━━━━━━━━━━━━━━━━━━┳━━━━━━━━━━━━━━━┓\n",
       "┃\u001b[1m \u001b[0m\u001b[1mLayer (type)                   \u001b[0m\u001b[1m \u001b[0m┃\u001b[1m \u001b[0m\u001b[1mOutput Shape          \u001b[0m\u001b[1m \u001b[0m┃\u001b[1m \u001b[0m\u001b[1m      Param #\u001b[0m\u001b[1m \u001b[0m┃\n",
       "┡━━━━━━━━━━━━━━━━━━━━━━━━━━━━━━━━━╇━━━━━━━━━━━━━━━━━━━━━━━━╇━━━━━━━━━━━━━━━┩\n",
       "│ input_layer_1 (\u001b[38;5;33mInputLayer\u001b[0m)      │ (\u001b[38;5;45mNone\u001b[0m, \u001b[38;5;34m20000\u001b[0m)          │             \u001b[38;5;34m0\u001b[0m │\n",
       "├─────────────────────────────────┼────────────────────────┼───────────────┤\n",
       "│ dense_2 (\u001b[38;5;33mDense\u001b[0m)                 │ (\u001b[38;5;45mNone\u001b[0m, \u001b[38;5;34m16\u001b[0m)             │       \u001b[38;5;34m320,016\u001b[0m │\n",
       "├─────────────────────────────────┼────────────────────────┼───────────────┤\n",
       "│ dropout_1 (\u001b[38;5;33mDropout\u001b[0m)             │ (\u001b[38;5;45mNone\u001b[0m, \u001b[38;5;34m16\u001b[0m)             │             \u001b[38;5;34m0\u001b[0m │\n",
       "├─────────────────────────────────┼────────────────────────┼───────────────┤\n",
       "│ dense_3 (\u001b[38;5;33mDense\u001b[0m)                 │ (\u001b[38;5;45mNone\u001b[0m, \u001b[38;5;34m1\u001b[0m)              │            \u001b[38;5;34m17\u001b[0m │\n",
       "└─────────────────────────────────┴────────────────────────┴───────────────┘\n"
      ]
     },
     "metadata": {},
     "output_type": "display_data"
    },
    {
     "data": {
      "text/html": [
       "<pre style=\"white-space:pre;overflow-x:auto;line-height:normal;font-family:Menlo,'DejaVu Sans Mono',consolas,'Courier New',monospace\"><span style=\"font-weight: bold\"> Total params: </span><span style=\"color: #00af00; text-decoration-color: #00af00\">320,033</span> (1.22 MB)\n",
       "</pre>\n"
      ],
      "text/plain": [
       "\u001b[1m Total params: \u001b[0m\u001b[38;5;34m320,033\u001b[0m (1.22 MB)\n"
      ]
     },
     "metadata": {},
     "output_type": "display_data"
    },
    {
     "data": {
      "text/html": [
       "<pre style=\"white-space:pre;overflow-x:auto;line-height:normal;font-family:Menlo,'DejaVu Sans Mono',consolas,'Courier New',monospace\"><span style=\"font-weight: bold\"> Trainable params: </span><span style=\"color: #00af00; text-decoration-color: #00af00\">320,033</span> (1.22 MB)\n",
       "</pre>\n"
      ],
      "text/plain": [
       "\u001b[1m Trainable params: \u001b[0m\u001b[38;5;34m320,033\u001b[0m (1.22 MB)\n"
      ]
     },
     "metadata": {},
     "output_type": "display_data"
    },
    {
     "data": {
      "text/html": [
       "<pre style=\"white-space:pre;overflow-x:auto;line-height:normal;font-family:Menlo,'DejaVu Sans Mono',consolas,'Courier New',monospace\"><span style=\"font-weight: bold\"> Non-trainable params: </span><span style=\"color: #00af00; text-decoration-color: #00af00\">0</span> (0.00 B)\n",
       "</pre>\n"
      ],
      "text/plain": [
       "\u001b[1m Non-trainable params: \u001b[0m\u001b[38;5;34m0\u001b[0m (0.00 B)\n"
      ]
     },
     "metadata": {},
     "output_type": "display_data"
    }
   ],
   "source": [
    "model = get_model()\n",
    "model.summary()"
   ]
  },
  {
   "cell_type": "code",
   "execution_count": 77,
   "metadata": {},
   "outputs": [
    {
     "name": "stdout",
     "output_type": "stream",
     "text": [
      "Epoch 1/10\n",
      "\u001b[1m625/625\u001b[0m \u001b[32m━━━━━━━━━━━━━━━━━━━━\u001b[0m\u001b[37m\u001b[0m \u001b[1m5s\u001b[0m 7ms/step - accuracy: 0.7723 - loss: 0.4865 - val_accuracy: 0.8796 - val_loss: 0.3040\n",
      "Epoch 2/10\n",
      "\u001b[1m625/625\u001b[0m \u001b[32m━━━━━━━━━━━━━━━━━━━━\u001b[0m\u001b[37m\u001b[0m \u001b[1m4s\u001b[0m 7ms/step - accuracy: 0.8978 - loss: 0.2737 - val_accuracy: 0.8852 - val_loss: 0.3028\n",
      "Epoch 3/10\n",
      "\u001b[1m625/625\u001b[0m \u001b[32m━━━━━━━━━━━━━━━━━━━━\u001b[0m\u001b[37m\u001b[0m \u001b[1m4s\u001b[0m 6ms/step - accuracy: 0.9171 - loss: 0.2429 - val_accuracy: 0.8876 - val_loss: 0.3177\n",
      "Epoch 4/10\n",
      "\u001b[1m625/625\u001b[0m \u001b[32m━━━━━━━━━━━━━━━━━━━━\u001b[0m\u001b[37m\u001b[0m \u001b[1m4s\u001b[0m 6ms/step - accuracy: 0.9250 - loss: 0.2208 - val_accuracy: 0.8844 - val_loss: 0.3393\n",
      "Epoch 5/10\n",
      "\u001b[1m625/625\u001b[0m \u001b[32m━━━━━━━━━━━━━━━━━━━━\u001b[0m\u001b[37m\u001b[0m \u001b[1m4s\u001b[0m 6ms/step - accuracy: 0.9312 - loss: 0.2137 - val_accuracy: 0.8860 - val_loss: 0.3554\n",
      "Epoch 6/10\n",
      "\u001b[1m625/625\u001b[0m \u001b[32m━━━━━━━━━━━━━━━━━━━━\u001b[0m\u001b[37m\u001b[0m \u001b[1m4s\u001b[0m 6ms/step - accuracy: 0.9351 - loss: 0.2113 - val_accuracy: 0.8840 - val_loss: 0.3707\n",
      "Epoch 7/10\n",
      "\u001b[1m625/625\u001b[0m \u001b[32m━━━━━━━━━━━━━━━━━━━━\u001b[0m\u001b[37m\u001b[0m \u001b[1m4s\u001b[0m 6ms/step - accuracy: 0.9361 - loss: 0.2091 - val_accuracy: 0.8836 - val_loss: 0.3835\n",
      "Epoch 8/10\n",
      "\u001b[1m625/625\u001b[0m \u001b[32m━━━━━━━━━━━━━━━━━━━━\u001b[0m\u001b[37m\u001b[0m \u001b[1m4s\u001b[0m 6ms/step - accuracy: 0.9384 - loss: 0.1966 - val_accuracy: 0.8836 - val_loss: 0.3954\n",
      "Epoch 9/10\n",
      "\u001b[1m625/625\u001b[0m \u001b[32m━━━━━━━━━━━━━━━━━━━━\u001b[0m\u001b[37m\u001b[0m \u001b[1m4s\u001b[0m 6ms/step - accuracy: 0.9401 - loss: 0.1975 - val_accuracy: 0.8828 - val_loss: 0.4095\n",
      "Epoch 10/10\n",
      "\u001b[1m625/625\u001b[0m \u001b[32m━━━━━━━━━━━━━━━━━━━━\u001b[0m\u001b[37m\u001b[0m \u001b[1m4s\u001b[0m 6ms/step - accuracy: 0.9415 - loss: 0.1959 - val_accuracy: 0.8776 - val_loss: 0.4165\n"
     ]
    },
    {
     "data": {
      "text/plain": [
       "<keras.src.callbacks.history.History at 0x134eb250ec0>"
      ]
     },
     "execution_count": 77,
     "metadata": {},
     "output_type": "execute_result"
    }
   ],
   "source": [
    "callbacks = [keras.callbacks.ModelCheckpoint(\"binary_1gram.keras\", save_best_only=True)]\n",
    "model.fit(binary_1gram_train_ds, validation_data=binary_1gram_val_ds, epochs=10, callbacks=callbacks)"
   ]
  },
  {
   "cell_type": "markdown",
   "metadata": {},
   "source": [
    "laddar den sparade modellen, samt gör evaluate på den."
   ]
  },
  {
   "cell_type": "code",
   "execution_count": 19,
   "metadata": {},
   "outputs": [
    {
     "name": "stdout",
     "output_type": "stream",
     "text": [
      "\u001b[1m782/782\u001b[0m \u001b[32m━━━━━━━━━━━━━━━━━━━━\u001b[0m\u001b[37m\u001b[0m \u001b[1m179s\u001b[0m 227ms/step - accuracy: 0.8873 - loss: 0.2906\n",
      "Test acc: 0.887\n"
     ]
    }
   ],
   "source": [
    "model = keras.models.load_model(\"binary_1gram.keras\")\n",
    "print(f\"Test acc: {model.evaluate(binary_1gram_test_ds)[1]:.3f}\")"
   ]
  },
  {
   "cell_type": "code",
   "execution_count": 92,
   "metadata": {},
   "outputs": [
    {
     "name": "stdout",
     "output_type": "stream",
     "text": [
      "\u001b[1m1/1\u001b[0m \u001b[32m━━━━━━━━━━━━━━━━━━━━\u001b[0m\u001b[37m\u001b[0m \u001b[1m0s\u001b[0m 39ms/step\n",
      "Text: This movie was fantastic! I really enjoyed it.\n",
      "Prediction (0 = negative, 1 = positive): 0.9442\n",
      "Text: I did not like this movie at all. It was boring and too long.\n",
      "Prediction (0 = negative, 1 = positive): 0.3506\n"
     ]
    }
   ],
   "source": [
    "# Example text to predict\n",
    "example_texts = [\n",
    "    \"This movie was fantastic! I really enjoyed it.\",\n",
    "    \"I did not like this movie at all. It was boring and too long.\"\n",
    "]\n",
    "\n",
    "# Vectorize the example texts\n",
    "vectorized_texts = text_vectorization(example_texts)\n",
    "\n",
    "# Make predictions\n",
    "predictions = model.predict(vectorized_texts)\n",
    "\n",
    "# Print the predictions\n",
    "for text, prediction in zip(example_texts, predictions):\n",
    "    print(f\"Text: {text}\")\n",
    "    print(f\"Prediction (0 = negative, 1 = positive): {prediction[0]:.4f}\")"
   ]
  },
  {
   "cell_type": "markdown",
   "metadata": {},
   "source": [
    "Man kan se att inputvektorn är endast 1 o 0."
   ]
  },
  {
   "cell_type": "code",
   "execution_count": 21,
   "metadata": {},
   "outputs": [
    {
     "name": "stdout",
     "output_type": "stream",
     "text": [
      "inputs: (32, 20000), <dtype: 'int64'>\n",
      "targets: (32,), <dtype: 'int32'>\n",
      "inputs[0]: [1 1 1 ... 0 0 0]\n",
      "targets[0]: 0\n"
     ]
    }
   ],
   "source": [
    "for inputs, targets in binary_1gram_test_ds:\n",
    "    print(f\"inputs: {inputs.shape}, {inputs.dtype}\")\n",
    "    print(f\"targets: {targets.shape}, {targets.dtype}\")\n",
    "    print(f\"inputs[0]: {inputs[0].numpy()}\")\n",
    "    print(f\"targets[0]: {targets[0].numpy()}\")\n",
    "    break"
   ]
  },
  {
   "cell_type": "markdown",
   "metadata": {},
   "source": [
    "Provar  med bigram."
   ]
  },
  {
   "cell_type": "code",
   "execution_count": 20,
   "metadata": {},
   "outputs": [],
   "source": [
    "text_vectorization = layers.TextVectorization(ngrams=2, max_tokens=20000, output_mode=\"tf_idf\")\n",
    "text_vectorization.adapt(text_only_train_ds)\n",
    "tfidf_2gram_train_ds = train_ds.map(lambda x, y: (text_vectorization(x), y))\n",
    "tfidf_2gram_val_ds = val_ds.map(lambda x, y: (text_vectorization(x), y))\n",
    "tfidf_2gram_test_ds = test_ds.map(lambda x, y: (text_vectorization(x), y))"
   ]
  },
  {
   "cell_type": "code",
   "execution_count": 22,
   "metadata": {},
   "outputs": [
    {
     "name": "stdout",
     "output_type": "stream",
     "text": [
      "Epoch 1/10\n",
      "\u001b[1m625/625\u001b[0m \u001b[32m━━━━━━━━━━━━━━━━━━━━\u001b[0m\u001b[37m\u001b[0m \u001b[1m82s\u001b[0m 126ms/step - accuracy: 0.7243 - loss: 0.8280 - val_accuracy: 0.8830 - val_loss: 0.3030\n",
      "Epoch 2/10\n",
      "\u001b[1m625/625\u001b[0m \u001b[32m━━━━━━━━━━━━━━━━━━━━\u001b[0m\u001b[37m\u001b[0m \u001b[1m27s\u001b[0m 43ms/step - accuracy: 0.8673 - loss: 0.3307 - val_accuracy: 0.8860 - val_loss: 0.3072\n",
      "Epoch 3/10\n",
      "\u001b[1m625/625\u001b[0m \u001b[32m━━━━━━━━━━━━━━━━━━━━\u001b[0m\u001b[37m\u001b[0m \u001b[1m30s\u001b[0m 48ms/step - accuracy: 0.8896 - loss: 0.2914 - val_accuracy: 0.8786 - val_loss: 0.3287\n",
      "Epoch 4/10\n",
      "\u001b[1m625/625\u001b[0m \u001b[32m━━━━━━━━━━━━━━━━━━━━\u001b[0m\u001b[37m\u001b[0m \u001b[1m26s\u001b[0m 42ms/step - accuracy: 0.9035 - loss: 0.2576 - val_accuracy: 0.8814 - val_loss: 0.3244\n",
      "Epoch 5/10\n",
      "\u001b[1m625/625\u001b[0m \u001b[32m━━━━━━━━━━━━━━━━━━━━\u001b[0m\u001b[37m\u001b[0m \u001b[1m27s\u001b[0m 42ms/step - accuracy: 0.9055 - loss: 0.2449 - val_accuracy: 0.8778 - val_loss: 0.3328\n",
      "Epoch 6/10\n",
      "\u001b[1m625/625\u001b[0m \u001b[32m━━━━━━━━━━━━━━━━━━━━\u001b[0m\u001b[37m\u001b[0m \u001b[1m24s\u001b[0m 39ms/step - accuracy: 0.9122 - loss: 0.2336 - val_accuracy: 0.8856 - val_loss: 0.3325\n",
      "Epoch 7/10\n",
      "\u001b[1m625/625\u001b[0m \u001b[32m━━━━━━━━━━━━━━━━━━━━\u001b[0m\u001b[37m\u001b[0m \u001b[1m41s\u001b[0m 38ms/step - accuracy: 0.9195 - loss: 0.2137 - val_accuracy: 0.8774 - val_loss: 0.3561\n",
      "Epoch 8/10\n",
      "\u001b[1m625/625\u001b[0m \u001b[32m━━━━━━━━━━━━━━━━━━━━\u001b[0m\u001b[37m\u001b[0m \u001b[1m67s\u001b[0m 79ms/step - accuracy: 0.9186 - loss: 0.2053 - val_accuracy: 0.8838 - val_loss: 0.3559\n",
      "Epoch 9/10\n",
      "\u001b[1m625/625\u001b[0m \u001b[32m━━━━━━━━━━━━━━━━━━━━\u001b[0m\u001b[37m\u001b[0m \u001b[1m25s\u001b[0m 39ms/step - accuracy: 0.9208 - loss: 0.2089 - val_accuracy: 0.8554 - val_loss: 0.3731\n",
      "Epoch 10/10\n",
      "\u001b[1m625/625\u001b[0m \u001b[32m━━━━━━━━━━━━━━━━━━━━\u001b[0m\u001b[37m\u001b[0m \u001b[1m25s\u001b[0m 39ms/step - accuracy: 0.9220 - loss: 0.1959 - val_accuracy: 0.8726 - val_loss: 0.4047\n"
     ]
    },
    {
     "data": {
      "text/plain": [
       "<keras.src.callbacks.history.History at 0x1d5681a9af0>"
      ]
     },
     "execution_count": 22,
     "metadata": {},
     "output_type": "execute_result"
    }
   ],
   "source": [
    "model = get_model()\n",
    "callbacks = [keras.callbacks.ModelCheckpoint(\"tfidf_2gram.keras\", save_best_only=True)]\n",
    "model.fit(tfidf_2gram_train_ds, validation_data=tfidf_2gram_val_ds, epochs=10, callbacks=callbacks)\n"
   ]
  },
  {
   "cell_type": "code",
   "execution_count": 24,
   "metadata": {},
   "outputs": [
    {
     "name": "stdout",
     "output_type": "stream",
     "text": [
      "\u001b[1m782/782\u001b[0m \u001b[32m━━━━━━━━━━━━━━━━━━━━\u001b[0m\u001b[37m\u001b[0m \u001b[1m156s\u001b[0m 199ms/step - accuracy: 0.8892 - loss: 0.2975\n",
      "Test acc: 0.888\n"
     ]
    }
   ],
   "source": [
    "model = keras.models.load_model(\"tfidf_2gram.keras\")\n",
    "print((f\"Test acc: {model.evaluate(tfidf_2gram_test_ds)[1]:.3f}\"))"
   ]
  },
  {
   "cell_type": "markdown",
   "metadata": {},
   "source": [
    "Del 3, vi ska titta på sekvenser nu. Förbereder datan för att använda en LSTM."
   ]
  },
  {
   "cell_type": "code",
   "execution_count": 26,
   "metadata": {},
   "outputs": [],
   "source": [
    "max_length = 600\n",
    "max_tokens = 20000\n",
    "\n",
    "text_vectorization = layers.TextVectorization(max_tokens=max_tokens, output_mode=\"int\", output_sequence_length=max_length)\n",
    "text_vectorization.adapt(text_only_train_ds)\n",
    "\n",
    "int_train_ds = train_ds.map(lambda x, y: (text_vectorization(x), y))\n",
    "int_val_ds = val_ds.map(lambda x, y: (text_vectorization(x), y))\n",
    "int_test_ds = test_ds.map(lambda x, y: (text_vectorization(x), y))"
   ]
  },
  {
   "cell_type": "code",
   "execution_count": 29,
   "metadata": {},
   "outputs": [],
   "source": [
    "import tensorflow as tf\n",
    "\n",
    "inputs = keras.Input(shape=(None,), dtype=\"int64\")\n",
    "embedded = layers.Embedding(max_tokens, 128)(inputs)\n",
    "#embedded = tf.one_hot(inputs, depth=max_tokens)\n",
    "x = layers.Bidirectional(layers.LSTM(32))(embedded)\n",
    "x = layers.Dropout(0.5)(x)\n",
    "outputs = layers.Dense(1, activation=\"sigmoid\")(x)\n",
    "model = keras.Model(inputs, outputs)\n",
    "model.compile(optimizer=\"rmsprop\", loss=\"binary_crossentropy\", metrics=[\"accuracy\"])\n"
   ]
  },
  {
   "cell_type": "markdown",
   "metadata": {},
   "source": [
    "Del 4, Lucia:\n",
    "### Embeddings:\n",
    "- sidan 332 i boken\n",
    "- Bidirectional layers, gradient descent åt båda hållen\n",
    "- "
   ]
  },
  {
   "cell_type": "markdown",
   "metadata": {},
   "source": [
    "Gör ett nytt neural network, adderar något som heter \"mask\". Sätt  `mask_zero = True`\n",
    "Detta blir inte jättemycket bättre.  \n",
    "\n",
    "Hittills är TFIDF den bästa.\n",
    "\n",
    "Nästa steg är det som kallas TRANSFORMERS! Skapar en ny fil 11 för det."
   ]
  }
 ],
 "metadata": {
  "kernelspec": {
   "display_name": ".venv",
   "language": "python",
   "name": "python3"
  },
  "language_info": {
   "codemirror_mode": {
    "name": "ipython",
    "version": 3
   },
   "file_extension": ".py",
   "mimetype": "text/x-python",
   "name": "python",
   "nbconvert_exporter": "python",
   "pygments_lexer": "ipython3",
   "version": "3.12.6"
  }
 },
 "nbformat": 4,
 "nbformat_minor": 2
}
