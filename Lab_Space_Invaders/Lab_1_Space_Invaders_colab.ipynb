{
  "cells": [
    {
      "cell_type": "markdown",
      "metadata": {
        "id": "view-in-github",
        "colab_type": "text"
      },
      "source": [
        "<a href=\"https://colab.research.google.com/github/dancla240/Deep-Learning-Daniel-Claesson/blob/google_colab/Lab_Space_Invaders/Lab_1_Space_Invaders_colab.ipynb\" target=\"_parent\"><img src=\"https://colab.research.google.com/assets/colab-badge.svg\" alt=\"Open In Colab\"/></a>"
      ]
    },
    {
      "cell_type": "markdown",
      "metadata": {
        "id": "evcIX1jANHgH"
      },
      "source": [
        "## Lab 1 Space Invaders\n",
        "- Using Reinforcement Learning / Deep Q-Learning to train a model to play Space Invaders, originally an Atari 2600 game from 1980.  \n",
        "- Gymnasium library is used. It emulates the environment and provided interfaces to control the game.  \n",
        "- Reinforcement Learning and how it works with the chosen library:\n",
        "Action space:\n",
        "Observation space:\n",
        "Steps / Actions:\n",
        "Rewards:\n",
        "- Using Google Colab for the learning process:"
      ]
    },
    {
      "cell_type": "code",
      "source": [
        "!pip install gymnasium==0.29.1\n",
        "!pip install ale-py==0.10.1\n",
        "!pip install gym[atari]"
      ],
      "metadata": {
        "colab": {
          "base_uri": "https://localhost:8080/"
        },
        "id": "9xfjJposNWlX",
        "outputId": "79f56844-200e-42c0-e906-0c7ec2d3b4b2"
      },
      "execution_count": 1,
      "outputs": [
        {
          "output_type": "stream",
          "name": "stdout",
          "text": [
            "Collecting gymnasium==0.29.1\n",
            "  Downloading gymnasium-0.29.1-py3-none-any.whl.metadata (10 kB)\n",
            "Requirement already satisfied: numpy>=1.21.0 in /usr/local/lib/python3.10/dist-packages (from gymnasium==0.29.1) (1.26.4)\n",
            "Requirement already satisfied: cloudpickle>=1.2.0 in /usr/local/lib/python3.10/dist-packages (from gymnasium==0.29.1) (3.1.0)\n",
            "Requirement already satisfied: typing-extensions>=4.3.0 in /usr/local/lib/python3.10/dist-packages (from gymnasium==0.29.1) (4.12.2)\n",
            "Collecting farama-notifications>=0.0.1 (from gymnasium==0.29.1)\n",
            "  Downloading Farama_Notifications-0.0.4-py3-none-any.whl.metadata (558 bytes)\n",
            "Downloading gymnasium-0.29.1-py3-none-any.whl (953 kB)\n",
            "\u001b[2K   \u001b[90m━━━━━━━━━━━━━━━━━━━━━━━━━━━━━━━━━━━━━━━━\u001b[0m \u001b[32m953.9/953.9 kB\u001b[0m \u001b[31m9.5 MB/s\u001b[0m eta \u001b[36m0:00:00\u001b[0m\n",
            "\u001b[?25hDownloading Farama_Notifications-0.0.4-py3-none-any.whl (2.5 kB)\n",
            "Installing collected packages: farama-notifications, gymnasium\n",
            "Successfully installed farama-notifications-0.0.4 gymnasium-0.29.1\n",
            "Collecting ale-py==0.10.1\n",
            "  Downloading ale_py-0.10.1-cp310-cp310-manylinux_2_17_x86_64.manylinux2014_x86_64.whl.metadata (7.6 kB)\n",
            "Requirement already satisfied: numpy>1.20 in /usr/local/lib/python3.10/dist-packages (from ale-py==0.10.1) (1.26.4)\n",
            "Requirement already satisfied: typing-extensions in /usr/local/lib/python3.10/dist-packages (from ale-py==0.10.1) (4.12.2)\n",
            "Downloading ale_py-0.10.1-cp310-cp310-manylinux_2_17_x86_64.manylinux2014_x86_64.whl (2.1 MB)\n",
            "\u001b[2K   \u001b[90m━━━━━━━━━━━━━━━━━━━━━━━━━━━━━━━━━━━━━━━━\u001b[0m \u001b[32m2.1/2.1 MB\u001b[0m \u001b[31m15.4 MB/s\u001b[0m eta \u001b[36m0:00:00\u001b[0m\n",
            "\u001b[?25hInstalling collected packages: ale-py\n",
            "Successfully installed ale-py-0.10.1\n",
            "Requirement already satisfied: gym[atari] in /usr/local/lib/python3.10/dist-packages (0.25.2)\n",
            "Requirement already satisfied: numpy>=1.18.0 in /usr/local/lib/python3.10/dist-packages (from gym[atari]) (1.26.4)\n",
            "Requirement already satisfied: cloudpickle>=1.2.0 in /usr/local/lib/python3.10/dist-packages (from gym[atari]) (3.1.0)\n",
            "Requirement already satisfied: gym_notices>=0.0.4 in /usr/local/lib/python3.10/dist-packages (from gym[atari]) (0.0.8)\n",
            "Collecting ale-py~=0.7.5 (from gym[atari])\n",
            "  Downloading ale_py-0.7.5-cp310-cp310-manylinux_2_17_x86_64.manylinux2014_x86_64.whl.metadata (8.1 kB)\n",
            "Requirement already satisfied: importlib-resources in /usr/local/lib/python3.10/dist-packages (from ale-py~=0.7.5->gym[atari]) (6.4.5)\n",
            "Downloading ale_py-0.7.5-cp310-cp310-manylinux_2_17_x86_64.manylinux2014_x86_64.whl (1.6 MB)\n",
            "\u001b[2K   \u001b[90m━━━━━━━━━━━━━━━━━━━━━━━━━━━━━━━━━━━━━━━━\u001b[0m \u001b[32m1.6/1.6 MB\u001b[0m \u001b[31m11.9 MB/s\u001b[0m eta \u001b[36m0:00:00\u001b[0m\n",
            "\u001b[?25hInstalling collected packages: ale-py\n",
            "  Attempting uninstall: ale-py\n",
            "    Found existing installation: ale-py 0.10.1\n",
            "    Uninstalling ale-py-0.10.1:\n",
            "      Successfully uninstalled ale-py-0.10.1\n",
            "Successfully installed ale-py-0.7.5\n"
          ]
        }
      ]
    },
    {
      "cell_type": "code",
      "source": [
        "#mount google drive\n",
        "from google.colab import drive\n",
        "drive.mount('/content/drive')\n",
        "\n"
      ],
      "metadata": {
        "colab": {
          "base_uri": "https://localhost:8080/"
        },
        "id": "B1zeIhbxNgA_",
        "outputId": "fdd2e1a8-c9dd-46dd-d305-b8c7a2b110eb"
      },
      "execution_count": 2,
      "outputs": [
        {
          "output_type": "stream",
          "name": "stdout",
          "text": [
            "Mounted at /content/drive\n"
          ]
        }
      ]
    },
    {
      "cell_type": "code",
      "execution_count": 3,
      "metadata": {
        "id": "XK7gcBE9NHgI"
      },
      "outputs": [],
      "source": [
        "import keras\n",
        "from keras import layers\n",
        "import gymnasium as gym\n",
        "import ale_py\n",
        "from gymnasium.wrappers.atari_preprocessing import AtariPreprocessing\n",
        "from gymnasium.wrappers.frame_stack import FrameStack\n",
        "import numpy as np\n",
        "import tensorflow as tf\n",
        "from datetime import datetime\n",
        "\n",
        "gym.register_envs(ale_py)"
      ]
    },
    {
      "cell_type": "code",
      "execution_count": null,
      "metadata": {
        "id": "uvc9i7FqNHgI"
      },
      "outputs": [],
      "source": [
        "env = gym.make('SpaceInvadersNoFrameskip-v4', render_mode='rgb_array') # render_mode='rbg_array' för att få ut videos\n",
        "env = AtariPreprocessing(env) #standardiserar till 84 x 84 pixlar och gråskala\n",
        "env = FrameStack(env, num_stack=4) # staplar 4 frames för att ge agenten en uppfattning om rörelse\n",
        "\n",
        "num_actions = env.action_space.n #antal möjliga actions\n",
        "\n",
        "# för att spara video\n",
        "nbr_episodes = 20 # antal episoder som ska gå innan man spelar in en video\n",
        "trigger = lambda t : t % nbr_episodes == 0 # trigger för när man ska spela in video\n",
        "env = gym.wrappers.RecordVideo(env, video_folder = './space_videos', episode_trigger=trigger, disable_logger=True)"
      ]
    },
    {
      "cell_type": "code",
      "execution_count": null,
      "metadata": {
        "id": "TCQtTATXNHgJ",
        "outputId": "0a43af69-0c12-4c85-a0cf-145a7bc86416"
      },
      "outputs": [
        {
          "name": "stdout",
          "output_type": "stream",
          "text": [
            "Discrete(6)\n",
            "['NOOP', 'FIRE', 'RIGHT', 'LEFT', 'RIGHTFIRE', 'LEFTFIRE']\n",
            "Box(0, 255, (4, 84, 84), uint8)\n",
            "{'render_modes': ['human', 'rgb_array'], 'render_fps': 30}\n"
          ]
        }
      ],
      "source": [
        "#help(env)\n",
        "print(env.action_space)        # Check the action space\n",
        "print(env.unwrapped.get_action_meanings()) # Check what each action does\n",
        "print(env.observation_space)   # Check the observation space\n",
        "print(env.metadata)            # Check environment metadata\n"
      ]
    },
    {
      "cell_type": "code",
      "execution_count": 4,
      "metadata": {
        "id": "mk_zyWSxNHgJ"
      },
      "outputs": [],
      "source": [
        "def create_q_model():\n",
        "    return keras.Sequential(\n",
        "        [\n",
        "            layers.Input(shape=(84, 84, 4)),   # Input layer\n",
        "            layers.Conv2D(32, kernel_size=8, strides=4, activation=\"relu\"),\n",
        "            layers.Conv2D(64, kernel_size=4, strides=2, activation=\"relu\"),\n",
        "            layers.Conv2D(64, kernel_size=3, strides=1, activation=\"relu\"),\n",
        "            layers.Flatten(),\n",
        "            layers.Dense(512, activation=\"relu\"),\n",
        "            layers.Dense(num_actions, activation=\"linear\")\n",
        "        ]\n",
        "    )\n",
        "\n",
        "#def create_q_model():\n",
        "#    return keras.Sequential(\n",
        "#        [\n",
        "#            layers.Input(shape=(84 , 84, 4)),\n",
        "#            layers.Conv2D(32, kernel_size=8, strides=4, activation=\"relu\"),\n",
        "#            layers.Conv2D(64, kernel_size=4, strides=2, activation=\"relu\"),\n",
        "#            layers.Conv2D(64, kernel_size=3, strides=1, activation=\"relu\"),\n",
        "#            layers.Flatten(),\n",
        "#            layers.Dense(512 , activation=\"relu\"),\n",
        "#            layers.Dense(num_actions, activation=\"linear\")\n",
        "#    ]\n",
        "#14 )"
      ]
    },
    {
      "cell_type": "code",
      "execution_count": 10,
      "metadata": {
        "id": "0AlpYAzgNHgJ"
      },
      "outputs": [],
      "source": [
        "# nedan är för google colab, ladda in en modell\n",
        "from keras.models import load_model\n",
        "\n",
        "model = load_model('/content/drive/MyDrive/GoogleColab/pretrained_model_from_my_computer/breakout_model_1669.keras')\n",
        "model_target = load_model('/content/drive/MyDrive/GoogleColab/pretrained_model_from_my_computer/breakout_model_1669.keras')\n",
        "\n",
        "# nedan är för lokalt\n",
        "# model = create_q_model()\n",
        "# model_target = create_q_model()\n",
        "\n",
        "optimizer = keras.optimizers.Adam(learning_rate=0.00025, clipnorm=1.0)"
      ]
    },
    {
      "cell_type": "code",
      "execution_count": null,
      "metadata": {
        "id": "SgzGspe0NHgJ"
      },
      "outputs": [],
      "source": [
        "action_history = []\n",
        "state_history = []\n",
        "state_next_history = []\n",
        "rewards_history = []\n",
        "done_history = []\n",
        "episode_reward_history = []\n",
        "running_reward = 287.75\n",
        "episode_count = 1669\n",
        "frame_count = 930000\n",
        "\n",
        "gamma = 0.99\n",
        "epsilon = 1.0\n",
        "epsilon_min = 0.1\n",
        "epsilon_max = 1.0\n",
        "epsilon_interval = (\n",
        "    epsilon_max - epsilon_min\n",
        ")\n",
        "batch_size = 32\n",
        "\n",
        "# maximum episodes to run\n",
        "max_episodes = 10000 # 10000\n",
        "# max frames to run\n",
        "max_frames = 1e7\n",
        "# Number of frames to take random action and observe output\n",
        "epsilon_random_frames = 930000 #1000\n",
        "# Number of frames for exploration\n",
        "epsilon_greedy_frames = 1000000.0\n",
        "# Maximum replay length\n",
        "# Note: The Deepmind paper suggests 1000000 however this causes memory issues\n",
        "max_memory_length = 100000\n",
        "\n",
        "# kolla förel\n",
        "max_steps_per_episode = 10000\n",
        "# Train the model after 4 actions\n",
        "update_after_actions = 4\n",
        "# How often to update the target network\n",
        "update_target_network = 10000 #1000\n",
        "# Using huber loss for stability\n",
        "loss_function = keras.losses.Huber()"
      ]
    },
    {
      "cell_type": "code",
      "execution_count": null,
      "metadata": {
        "id": "JJhyZotgNHgK",
        "outputId": "3a2452e0-51d5-49e5-e765-e2a860ca5476"
      },
      "outputs": [
        {
          "name": "stdout",
          "output_type": "stream",
          "text": [
            "Episode: 38, best score of last 100 episodes: 515.0, running_reward: 130.78947368421052, frame_count: 20000\n"
          ]
        },
        {
          "ename": "OSError",
          "evalue": "[Errno 22] Invalid argument: \"keras_models/breakout_model_38_<method 'timestamp' of 'datetime.datetime' objects>.keras\"",
          "output_type": "error",
          "traceback": [
            "\u001b[1;31m---------------------------------------------------------------------------\u001b[0m",
            "\u001b[1;31mOSError\u001b[0m                                   Traceback (most recent call last)",
            "Cell \u001b[1;32mIn[94], line 73\u001b[0m\n\u001b[0;32m     71\u001b[0m     \u001b[38;5;66;03m# Log details\u001b[39;00m\n\u001b[0;32m     72\u001b[0m     \u001b[38;5;28mprint\u001b[39m(\u001b[38;5;124mf\u001b[39m\u001b[38;5;124m\"\u001b[39m\u001b[38;5;124mEpisode: \u001b[39m\u001b[38;5;132;01m{\u001b[39;00mepisode_count\u001b[38;5;132;01m}\u001b[39;00m\u001b[38;5;124m, best score of last 100 episodes: \u001b[39m\u001b[38;5;132;01m{\u001b[39;00mnp\u001b[38;5;241m.\u001b[39mmax(episode_reward_history)\u001b[38;5;132;01m}\u001b[39;00m\u001b[38;5;124m, running_reward: \u001b[39m\u001b[38;5;132;01m{\u001b[39;00mrunning_reward\u001b[38;5;132;01m}\u001b[39;00m\u001b[38;5;124m, frame_count: \u001b[39m\u001b[38;5;132;01m{\u001b[39;00mframe_count\u001b[38;5;132;01m}\u001b[39;00m\u001b[38;5;124m\"\u001b[39m)       \n\u001b[1;32m---> 73\u001b[0m     \u001b[43mmodel\u001b[49m\u001b[38;5;241;43m.\u001b[39;49m\u001b[43msave\u001b[49m\u001b[43m(\u001b[49m\u001b[38;5;124;43mf\u001b[39;49m\u001b[38;5;124;43m\"\u001b[39;49m\u001b[38;5;124;43mkeras_models/breakout_model_\u001b[39;49m\u001b[38;5;132;43;01m{\u001b[39;49;00m\u001b[43mepisode_count\u001b[49m\u001b[38;5;132;43;01m}\u001b[39;49;00m\u001b[38;5;124;43m_\u001b[39;49m\u001b[38;5;132;43;01m{\u001b[39;49;00m\u001b[43mdatetime\u001b[49m\u001b[38;5;241;43m.\u001b[39;49m\u001b[43mtimestamp\u001b[49m\u001b[38;5;132;43;01m}\u001b[39;49;00m\u001b[38;5;124;43m.keras\u001b[39;49m\u001b[38;5;124;43m\"\u001b[39;49m\u001b[43m)\u001b[49m\n\u001b[0;32m     75\u001b[0m \u001b[38;5;28;01mif\u001b[39;00m \u001b[38;5;28mlen\u001b[39m(rewards_history) \u001b[38;5;241m>\u001b[39m max_memory_length:\n\u001b[0;32m     76\u001b[0m     \u001b[38;5;28;01mdel\u001b[39;00m rewards_history[:\u001b[38;5;241m1\u001b[39m]\n",
            "File \u001b[1;32mc:\\Users\\danie\\Documents\\GitHub\\Deep-Learning-Daniel-Claesson\\.venv\\Lib\\site-packages\\keras\\src\\utils\\traceback_utils.py:122\u001b[0m, in \u001b[0;36mfilter_traceback.<locals>.error_handler\u001b[1;34m(*args, **kwargs)\u001b[0m\n\u001b[0;32m    119\u001b[0m     filtered_tb \u001b[38;5;241m=\u001b[39m _process_traceback_frames(e\u001b[38;5;241m.\u001b[39m__traceback__)\n\u001b[0;32m    120\u001b[0m     \u001b[38;5;66;03m# To get the full stack trace, call:\u001b[39;00m\n\u001b[0;32m    121\u001b[0m     \u001b[38;5;66;03m# `keras.config.disable_traceback_filtering()`\u001b[39;00m\n\u001b[1;32m--> 122\u001b[0m     \u001b[38;5;28;01mraise\u001b[39;00m e\u001b[38;5;241m.\u001b[39mwith_traceback(filtered_tb) \u001b[38;5;28;01mfrom\u001b[39;00m \u001b[38;5;28;01mNone\u001b[39;00m\n\u001b[0;32m    123\u001b[0m \u001b[38;5;28;01mfinally\u001b[39;00m:\n\u001b[0;32m    124\u001b[0m     \u001b[38;5;28;01mdel\u001b[39;00m filtered_tb\n",
            "File \u001b[1;32mc:\\Users\\danie\\Documents\\GitHub\\Deep-Learning-Daniel-Claesson\\.venv\\Lib\\site-packages\\keras\\src\\saving\\saving_lib.py:141\u001b[0m, in \u001b[0;36msave_model\u001b[1;34m(model, filepath, weights_format, zipped)\u001b[0m\n\u001b[0;32m    139\u001b[0m         f\u001b[38;5;241m.\u001b[39mwrite(zip_filepath\u001b[38;5;241m.\u001b[39mgetvalue())\n\u001b[0;32m    140\u001b[0m \u001b[38;5;28;01melse\u001b[39;00m:\n\u001b[1;32m--> 141\u001b[0m     \u001b[38;5;28;01mwith\u001b[39;00m \u001b[38;5;28;43mopen\u001b[39;49m\u001b[43m(\u001b[49m\u001b[43mfilepath\u001b[49m\u001b[43m,\u001b[49m\u001b[43m \u001b[49m\u001b[38;5;124;43m\"\u001b[39;49m\u001b[38;5;124;43mwb\u001b[39;49m\u001b[38;5;124;43m\"\u001b[39;49m\u001b[43m)\u001b[49m \u001b[38;5;28;01mas\u001b[39;00m f:\n\u001b[0;32m    142\u001b[0m         _save_model_to_fileobj(model, f, weights_format)\n",
            "\u001b[1;31mOSError\u001b[0m: [Errno 22] Invalid argument: \"keras_models/breakout_model_38_<method 'timestamp' of 'datetime.datetime' objects>.keras\""
          ]
        }
      ],
      "source": [
        "while True:\n",
        "    observation, _ = env.reset()\n",
        "    state = np.array(observation)\n",
        "    episode_reward = 0\n",
        "\n",
        "    for timestep in range(1, max_steps_per_episode):\n",
        "        frame_count += 1\n",
        "        if frame_count < epsilon_random_frames or epsilon > np.random.rand(1)[0]:\n",
        "            # take random action\n",
        "            action = env.action_space.sample()\n",
        "        else:\n",
        "            state_tensor = keras.ops.convert_to_tensor(state)\n",
        "            state_tensor = keras.ops.expand_dims(state_tensor, 0)\n",
        "            state_tensor = keras.ops.transpose(state_tensor, [0, 2, 3, 1])\n",
        "            #print(f\"state_tensor.shape : {state_tensor.shape}\")\n",
        "            action_probs = model(state_tensor, training=False)\n",
        "            # Take best action\n",
        "            action = keras.ops.argmax(action_probs[0].numpy())\n",
        "\n",
        "        epsilon -= epsilon_interval / epsilon_greedy_frames\n",
        "        epsilon = max(epsilon, epsilon_min)\n",
        "\n",
        "        state_next, reward, done, _ , _ = env.step(action)\n",
        "        state_next = np.array(state_next)\n",
        "        episode_reward += reward\n",
        "\n",
        "        action_history.append(action)\n",
        "        state_history.append(state)\n",
        "        state_next_history.append(state_next)\n",
        "        done_history.append(done)\n",
        "        rewards_history.append(reward)\n",
        "        state = state_next\n",
        "\n",
        "        if frame_count % update_after_actions == 0 and len(done_history) > batch_size:\n",
        "            # get indices of smaples for replay buffers\n",
        "            indices = np.random.choice(range(len(done_history)), size=batch_size)\n",
        "            # Using list comprehension to sample from replay buffer\n",
        "            state_sample = np.array([state_history[i] for i in indices])\n",
        "            state_next_sample = np.array([state_next_history[i] for i in indices])\n",
        "            #print(f\"State_next_sample.shape : {state_next_sample.shape}\")\n",
        "            reward_sample = [rewards_history[i] for i in indices]\n",
        "            action_sample = [action_history[i] for i in indices]\n",
        "            done_sample = keras.ops.convert_to_tensor([float(done_history[i]) for i in indices])\n",
        "\n",
        "            state_next_sample = keras.ops.convert_to_tensor(state_next_sample)\n",
        "            #print(f\"State_next_sample.shape : {state_next_sample.shape}\")\n",
        "            #state_next_sample_tensor = keras.ops.expand_dims(state_next_sample, 0)\n",
        "            #print(f\"State_next_sample_tensor.shape : {state_next_sample_tensor.shape}\")\n",
        "            state_next_sample = keras.ops.transpose(state_next_sample, [0, 2, 3, 1])\n",
        "            future_rewards = model_target.predict(state_next_sample, verbose=0) # predikterar framtida rewards\n",
        "\n",
        "            updated_q_values = reward_sample + gamma * keras.ops.amax(future_rewards, axis=1) # uppdaterar q-värden\n",
        "            # if final frame set the last value to -1\n",
        "            updated_q_values = updated_q_values * (1 - done_sample) - done_sample\n",
        "            # create a mask so we only calculate loss on the updated q values\n",
        "            masks = keras.ops.one_hot(action_sample, num_actions)\n",
        "\n",
        "            with tf.GradientTape() as tape:\n",
        "                # training the model on the states and updated q-values\n",
        "                #print(f\"state_sample.shape : {state_sample.shape}\")\n",
        "                state_sample = keras.ops.transpose(state_sample, [0, 2, 3, 1])\n",
        "                q_values = model(state_sample)\n",
        "                q_action = keras.ops.sum(keras.ops.multiply(q_values, masks), axis=1)\n",
        "                loss = loss_function(updated_q_values, q_action)\n",
        "                # backpropagation:\n",
        "                grads = tape.gradient(loss, model.trainable_variables)\n",
        "                optimizer.apply_gradients(zip(grads, model.trainable_variables))\n",
        "\n",
        "        if frame_count % update_target_network == 0:\n",
        "            model_target.set_weights(model.get_weights())\n",
        "            # Log details\n",
        "            print(f\"Episode: {episode_count}, best score of last 100 episodes: {np.max(episode_reward_history)}, running_reward: {running_reward}, frame_count: {frame_count}\")\n",
        "            model.save(f\"keras_models/breakout_model_{episode_count}.keras\")\n",
        "\n",
        "        if len(rewards_history) > max_memory_length:\n",
        "            del rewards_history[:1]\n",
        "            del state_history[:1]\n",
        "            del state_next_history[:1]\n",
        "            del action_history[:1]\n",
        "            del done_history[:1]\n",
        "\n",
        "        if done:\n",
        "            break\n",
        "    episode_reward_history.append(episode_reward)\n",
        "    if len(episode_reward_history) > 100:\n",
        "        del episode_reward_history[:1]\n",
        "    running_reward = np.mean(episode_reward_history)\n",
        "\n",
        "    episode_count += 1\n",
        "\n",
        "    if running_reward > 800:\n",
        "        print(f\"Solver at epiode{episode_count}\")\n",
        "        model.save(f\"breakout_model_{episode_count}.keras\")\n",
        "        break\n",
        "    if (max_episodes > 0 and episode_count >= max_episodes):\n",
        "        print(f\"stopped at episode {episode_count}\")\n",
        "        break\n",
        "    if (max_frames > 0 and frame_count >= max_frames):\n",
        "        print(f\"stopped at frame {frame_count}\")\n",
        "        break\n",
        ""
      ]
    }
  ],
  "metadata": {
    "kernelspec": {
      "display_name": ".venv",
      "language": "python",
      "name": "python3"
    },
    "language_info": {
      "codemirror_mode": {
        "name": "ipython",
        "version": 3
      },
      "file_extension": ".py",
      "mimetype": "text/x-python",
      "name": "python",
      "nbconvert_exporter": "python",
      "pygments_lexer": "ipython3",
      "version": "3.12.6"
    },
    "colab": {
      "provenance": [],
      "include_colab_link": true
    }
  },
  "nbformat": 4,
  "nbformat_minor": 0
}